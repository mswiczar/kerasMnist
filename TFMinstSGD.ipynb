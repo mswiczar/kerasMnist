{
  "nbformat": 4,
  "nbformat_minor": 0,
  "metadata": {
    "colab": {
      "name": "TFMinst.ipynb",
      "provenance": [],
      "collapsed_sections": []
    },
    "kernelspec": {
      "name": "python3",
      "display_name": "Python 3"
    },
    "accelerator": "GPU"
  },
  "cells": [
    {
      "cell_type": "code",
      "metadata": {
        "id": "kc148rGOF8tu",
        "colab_type": "code",
        "outputId": "6d5ec3dc-aaec-4c18-ea66-930c86256c83",
        "colab": {
          "base_uri": "https://localhost:8080/",
          "height": 632
        }
      },
      "source": [
        "pip install tensorflow-gpu"
      ],
      "execution_count": 0,
      "outputs": [
        {
          "output_type": "stream",
          "text": [
            "Requirement already satisfied: tensorflow-gpu in /usr/local/lib/python3.6/dist-packages (2.1.0)\n",
            "Requirement already satisfied: opt-einsum>=2.3.2 in /usr/local/lib/python3.6/dist-packages (from tensorflow-gpu) (3.2.0)\n",
            "Requirement already satisfied: protobuf>=3.8.0 in /usr/local/lib/python3.6/dist-packages (from tensorflow-gpu) (3.10.0)\n",
            "Requirement already satisfied: keras-applications>=1.0.8 in /usr/local/lib/python3.6/dist-packages (from tensorflow-gpu) (1.0.8)\n",
            "Requirement already satisfied: gast==0.2.2 in /usr/local/lib/python3.6/dist-packages (from tensorflow-gpu) (0.2.2)\n",
            "Requirement already satisfied: scipy==1.4.1; python_version >= \"3\" in /usr/local/lib/python3.6/dist-packages (from tensorflow-gpu) (1.4.1)\n",
            "Requirement already satisfied: google-pasta>=0.1.6 in /usr/local/lib/python3.6/dist-packages (from tensorflow-gpu) (0.2.0)\n",
            "Requirement already satisfied: six>=1.12.0 in /usr/local/lib/python3.6/dist-packages (from tensorflow-gpu) (1.12.0)\n",
            "Requirement already satisfied: tensorflow-estimator<2.2.0,>=2.1.0rc0 in /usr/local/lib/python3.6/dist-packages (from tensorflow-gpu) (2.1.0)\n",
            "Requirement already satisfied: keras-preprocessing>=1.1.0 in /usr/local/lib/python3.6/dist-packages (from tensorflow-gpu) (1.1.0)\n",
            "Requirement already satisfied: wrapt>=1.11.1 in /usr/local/lib/python3.6/dist-packages (from tensorflow-gpu) (1.12.1)\n",
            "Requirement already satisfied: tensorboard<2.2.0,>=2.1.0 in /usr/local/lib/python3.6/dist-packages (from tensorflow-gpu) (2.1.1)\n",
            "Requirement already satisfied: numpy<2.0,>=1.16.0 in /usr/local/lib/python3.6/dist-packages (from tensorflow-gpu) (1.18.2)\n",
            "Requirement already satisfied: astor>=0.6.0 in /usr/local/lib/python3.6/dist-packages (from tensorflow-gpu) (0.8.1)\n",
            "Requirement already satisfied: absl-py>=0.7.0 in /usr/local/lib/python3.6/dist-packages (from tensorflow-gpu) (0.9.0)\n",
            "Requirement already satisfied: wheel>=0.26; python_version >= \"3\" in /usr/local/lib/python3.6/dist-packages (from tensorflow-gpu) (0.34.2)\n",
            "Requirement already satisfied: grpcio>=1.8.6 in /usr/local/lib/python3.6/dist-packages (from tensorflow-gpu) (1.27.2)\n",
            "Requirement already satisfied: termcolor>=1.1.0 in /usr/local/lib/python3.6/dist-packages (from tensorflow-gpu) (1.1.0)\n",
            "Requirement already satisfied: setuptools in /usr/local/lib/python3.6/dist-packages (from protobuf>=3.8.0->tensorflow-gpu) (46.0.0)\n",
            "Requirement already satisfied: h5py in /usr/local/lib/python3.6/dist-packages (from keras-applications>=1.0.8->tensorflow-gpu) (2.10.0)\n",
            "Requirement already satisfied: requests<3,>=2.21.0 in /usr/local/lib/python3.6/dist-packages (from tensorboard<2.2.0,>=2.1.0->tensorflow-gpu) (2.21.0)\n",
            "Requirement already satisfied: markdown>=2.6.8 in /usr/local/lib/python3.6/dist-packages (from tensorboard<2.2.0,>=2.1.0->tensorflow-gpu) (3.2.1)\n",
            "Requirement already satisfied: google-auth-oauthlib<0.5,>=0.4.1 in /usr/local/lib/python3.6/dist-packages (from tensorboard<2.2.0,>=2.1.0->tensorflow-gpu) (0.4.1)\n",
            "Requirement already satisfied: google-auth<2,>=1.6.3 in /usr/local/lib/python3.6/dist-packages (from tensorboard<2.2.0,>=2.1.0->tensorflow-gpu) (1.7.2)\n",
            "Requirement already satisfied: werkzeug>=0.11.15 in /usr/local/lib/python3.6/dist-packages (from tensorboard<2.2.0,>=2.1.0->tensorflow-gpu) (1.0.1)\n",
            "Requirement already satisfied: urllib3<1.25,>=1.21.1 in /usr/local/lib/python3.6/dist-packages (from requests<3,>=2.21.0->tensorboard<2.2.0,>=2.1.0->tensorflow-gpu) (1.24.3)\n",
            "Requirement already satisfied: idna<2.9,>=2.5 in /usr/local/lib/python3.6/dist-packages (from requests<3,>=2.21.0->tensorboard<2.2.0,>=2.1.0->tensorflow-gpu) (2.8)\n",
            "Requirement already satisfied: chardet<3.1.0,>=3.0.2 in /usr/local/lib/python3.6/dist-packages (from requests<3,>=2.21.0->tensorboard<2.2.0,>=2.1.0->tensorflow-gpu) (3.0.4)\n",
            "Requirement already satisfied: certifi>=2017.4.17 in /usr/local/lib/python3.6/dist-packages (from requests<3,>=2.21.0->tensorboard<2.2.0,>=2.1.0->tensorflow-gpu) (2019.11.28)\n",
            "Requirement already satisfied: requests-oauthlib>=0.7.0 in /usr/local/lib/python3.6/dist-packages (from google-auth-oauthlib<0.5,>=0.4.1->tensorboard<2.2.0,>=2.1.0->tensorflow-gpu) (1.3.0)\n",
            "Requirement already satisfied: rsa<4.1,>=3.1.4 in /usr/local/lib/python3.6/dist-packages (from google-auth<2,>=1.6.3->tensorboard<2.2.0,>=2.1.0->tensorflow-gpu) (4.0)\n",
            "Requirement already satisfied: pyasn1-modules>=0.2.1 in /usr/local/lib/python3.6/dist-packages (from google-auth<2,>=1.6.3->tensorboard<2.2.0,>=2.1.0->tensorflow-gpu) (0.2.8)\n",
            "Requirement already satisfied: cachetools<3.2,>=2.0.0 in /usr/local/lib/python3.6/dist-packages (from google-auth<2,>=1.6.3->tensorboard<2.2.0,>=2.1.0->tensorflow-gpu) (3.1.1)\n",
            "Requirement already satisfied: oauthlib>=3.0.0 in /usr/local/lib/python3.6/dist-packages (from requests-oauthlib>=0.7.0->google-auth-oauthlib<0.5,>=0.4.1->tensorboard<2.2.0,>=2.1.0->tensorflow-gpu) (3.1.0)\n",
            "Requirement already satisfied: pyasn1>=0.1.3 in /usr/local/lib/python3.6/dist-packages (from rsa<4.1,>=3.1.4->google-auth<2,>=1.6.3->tensorboard<2.2.0,>=2.1.0->tensorflow-gpu) (0.4.8)\n"
          ],
          "name": "stdout"
        }
      ]
    },
    {
      "cell_type": "code",
      "metadata": {
        "id": "Za791K_jHQYB",
        "colab_type": "code",
        "colab": {}
      },
      "source": [
        "import tensorflow as tf\n",
        "from tensorflow import keras\n"
      ],
      "execution_count": 0,
      "outputs": []
    },
    {
      "cell_type": "code",
      "metadata": {
        "id": "DfftimPGHXHe",
        "colab_type": "code",
        "colab": {}
      },
      "source": [
        "# Network and training.\n",
        "EPOCHS = 50\n",
        "BATCH_SIZE = 128\n",
        "VERBOSE = 1\n",
        "NB_CLASSES = 10   # number of outputs = number of digits\n",
        "N_HIDDEN = 128\n",
        "VALIDATION_SPLIT = 0.2 # how much TRAIN is reserved for VALIDATION"
      ],
      "execution_count": 0,
      "outputs": []
    },
    {
      "cell_type": "code",
      "metadata": {
        "id": "QLbvV3Z3HfH9",
        "colab_type": "code",
        "colab": {}
      },
      "source": [
        "# Loading MNIST dataset.\n",
        "# Labels have one-hot representation.\n",
        "mnist = keras.datasets.mnist\n",
        "(X_train, Y_train), (X_test, Y_test) = mnist.load_data()\n"
      ],
      "execution_count": 0,
      "outputs": []
    },
    {
      "cell_type": "code",
      "metadata": {
        "id": "xJk22xDsHpSF",
        "colab_type": "code",
        "colab": {}
      },
      "source": [
        "# X_train is 60000 rows of 28x28 values; we reshape it to 60000 x 784.\n",
        "   RESHAPED = 784"
      ],
      "execution_count": 0,
      "outputs": []
    },
    {
      "cell_type": "code",
      "metadata": {
        "id": "xvJ75BWKHxAc",
        "colab_type": "code",
        "colab": {}
      },
      "source": [
        "X_train = X_train.reshape(60000, RESHAPED)\n",
        "X_test = X_test.reshape(10000, RESHAPED)\n",
        "X_train = X_train.astype('float32')\n",
        "X_test = X_test.astype('float32')\n"
      ],
      "execution_count": 0,
      "outputs": []
    },
    {
      "cell_type": "code",
      "metadata": {
        "id": "np9aTNfEIKoq",
        "colab_type": "code",
        "outputId": "c74e3236-42e8-40d8-ebf1-b14e1a0cdd2e",
        "colab": {
          "base_uri": "https://localhost:8080/",
          "height": 34
        }
      },
      "source": [
        "# Normalize inputs to be within in [0, 1].\n",
        "X_train, X_test = X_train / 255.0, X_test / 255.0\n",
        "print(X_train.shape[0], 'train samples')"
      ],
      "execution_count": 0,
      "outputs": [
        {
          "output_type": "stream",
          "text": [
            "60000 train samples\n"
          ],
          "name": "stdout"
        }
      ]
    },
    {
      "cell_type": "code",
      "metadata": {
        "id": "o8YKLEMPITRD",
        "colab_type": "code",
        "outputId": "1cdab31b-e45f-483e-ed08-5204898860ac",
        "colab": {
          "base_uri": "https://localhost:8080/",
          "height": 34
        }
      },
      "source": [
        "print(X_test.shape[0], 'test samples')"
      ],
      "execution_count": 0,
      "outputs": [
        {
          "output_type": "stream",
          "text": [
            "10000 test samples\n"
          ],
          "name": "stdout"
        }
      ]
    },
    {
      "cell_type": "code",
      "metadata": {
        "id": "-IxikQP3IX7T",
        "colab_type": "code",
        "colab": {}
      },
      "source": [
        "# Labels have one-hot representation.\n",
        "Y_train = tf.keras.utils.to_categorical(Y_train, NB_CLASSES)\n",
        "Y_test = tf.keras.utils.to_categorical(Y_test, NB_CLASSES)\n"
      ],
      "execution_count": 0,
      "outputs": []
    },
    {
      "cell_type": "code",
      "metadata": {
        "id": "_jRQg1oJIb_2",
        "colab_type": "code",
        "outputId": "ace6a845-af66-4445-8db7-4159b7d76fdb",
        "colab": {
          "base_uri": "https://localhost:8080/",
          "height": 255
        }
      },
      "source": [
        "# Build the model.\n",
        "model = tf.keras.models.Sequential()\n",
        "model.add(keras.layers.Dense(N_HIDDEN,\n",
        "             input_shape=(RESHAPED,),\n",
        "             name='dense_layer', activation='relu'))\n",
        "model.add(keras.layers.Dense(N_HIDDEN,\n",
        "             name='dense_layer_2', activation='relu'))\n",
        "model.add(keras.layers.Dense(NB_CLASSES,\n",
        "             name='dense_layer_3', activation='softmax'))\n",
        "# Summary of the model.\n",
        "model.summary()"
      ],
      "execution_count": 0,
      "outputs": [
        {
          "output_type": "stream",
          "text": [
            "Model: \"sequential\"\n",
            "_________________________________________________________________\n",
            "Layer (type)                 Output Shape              Param #   \n",
            "=================================================================\n",
            "dense_layer (Dense)          (None, 128)               100480    \n",
            "_________________________________________________________________\n",
            "dense_layer_2 (Dense)        (None, 128)               16512     \n",
            "_________________________________________________________________\n",
            "dense_layer_3 (Dense)        (None, 10)                1290      \n",
            "=================================================================\n",
            "Total params: 118,282\n",
            "Trainable params: 118,282\n",
            "Non-trainable params: 0\n",
            "_________________________________________________________________\n"
          ],
          "name": "stdout"
        }
      ]
    },
    {
      "cell_type": "code",
      "metadata": {
        "id": "JXqUk4udIp63",
        "colab_type": "code",
        "colab": {}
      },
      "source": [
        "model.compile(optimizer='SGD',\n",
        "                 loss='categorical_crossentropy',\n",
        "                 metrics=['accuracy'])\n"
      ],
      "execution_count": 0,
      "outputs": []
    },
    {
      "cell_type": "code",
      "metadata": {
        "id": "UZQsm7llItqH",
        "colab_type": "code",
        "outputId": "fbbfb312-0b8a-4e2d-b106-a9811fbabef0",
        "colab": {
          "base_uri": "https://localhost:8080/",
          "height": 1000
        }
      },
      "source": [
        "# Training the model.\n",
        "model.fit(X_train, Y_train,\n",
        "             batch_size=BATCH_SIZE, epochs=EPOCHS,\n",
        "             verbose=VERBOSE, validation_split=VALIDATION_SPLIT)"
      ],
      "execution_count": 0,
      "outputs": [
        {
          "output_type": "stream",
          "text": [
            "Train on 48000 samples, validate on 12000 samples\n",
            "Epoch 1/50\n",
            "48000/48000 [==============================] - 3s 61us/sample - loss: 1.4051 - accuracy: 0.6583 - val_loss: 0.7139 - val_accuracy: 0.8467\n",
            "Epoch 2/50\n",
            "48000/48000 [==============================] - 1s 25us/sample - loss: 0.5801 - accuracy: 0.8553 - val_loss: 0.4465 - val_accuracy: 0.8824\n",
            "Epoch 3/50\n",
            "48000/48000 [==============================] - 1s 25us/sample - loss: 0.4311 - accuracy: 0.8836 - val_loss: 0.3714 - val_accuracy: 0.8982\n",
            "Epoch 4/50\n",
            "48000/48000 [==============================] - 1s 26us/sample - loss: 0.3738 - accuracy: 0.8956 - val_loss: 0.3322 - val_accuracy: 0.9056\n",
            "Epoch 5/50\n",
            "48000/48000 [==============================] - 1s 25us/sample - loss: 0.3412 - accuracy: 0.9041 - val_loss: 0.3099 - val_accuracy: 0.9111\n",
            "Epoch 6/50\n",
            "48000/48000 [==============================] - 1s 25us/sample - loss: 0.3195 - accuracy: 0.9094 - val_loss: 0.2947 - val_accuracy: 0.9148\n",
            "Epoch 7/50\n",
            "48000/48000 [==============================] - 1s 26us/sample - loss: 0.3027 - accuracy: 0.9135 - val_loss: 0.2815 - val_accuracy: 0.9182\n",
            "Epoch 8/50\n",
            "48000/48000 [==============================] - 1s 26us/sample - loss: 0.2888 - accuracy: 0.9183 - val_loss: 0.2701 - val_accuracy: 0.9220\n",
            "Epoch 9/50\n",
            "48000/48000 [==============================] - 1s 25us/sample - loss: 0.2770 - accuracy: 0.9211 - val_loss: 0.2602 - val_accuracy: 0.9247\n",
            "Epoch 10/50\n",
            "48000/48000 [==============================] - 1s 25us/sample - loss: 0.2665 - accuracy: 0.9249 - val_loss: 0.2529 - val_accuracy: 0.9283\n",
            "Epoch 11/50\n",
            "48000/48000 [==============================] - 1s 25us/sample - loss: 0.2573 - accuracy: 0.9272 - val_loss: 0.2437 - val_accuracy: 0.9311\n",
            "Epoch 12/50\n",
            "48000/48000 [==============================] - 1s 25us/sample - loss: 0.2486 - accuracy: 0.9303 - val_loss: 0.2373 - val_accuracy: 0.9330\n",
            "Epoch 13/50\n",
            "48000/48000 [==============================] - 1s 25us/sample - loss: 0.2405 - accuracy: 0.9328 - val_loss: 0.2310 - val_accuracy: 0.9354\n",
            "Epoch 14/50\n",
            "48000/48000 [==============================] - 1s 25us/sample - loss: 0.2329 - accuracy: 0.9343 - val_loss: 0.2256 - val_accuracy: 0.9372\n",
            "Epoch 15/50\n",
            "48000/48000 [==============================] - 1s 25us/sample - loss: 0.2258 - accuracy: 0.9364 - val_loss: 0.2183 - val_accuracy: 0.9397\n",
            "Epoch 16/50\n",
            "48000/48000 [==============================] - 1s 25us/sample - loss: 0.2191 - accuracy: 0.9376 - val_loss: 0.2135 - val_accuracy: 0.9411\n",
            "Epoch 17/50\n",
            "48000/48000 [==============================] - 1s 25us/sample - loss: 0.2127 - accuracy: 0.9400 - val_loss: 0.2084 - val_accuracy: 0.9412\n",
            "Epoch 18/50\n",
            "48000/48000 [==============================] - 1s 25us/sample - loss: 0.2067 - accuracy: 0.9411 - val_loss: 0.2038 - val_accuracy: 0.9431\n",
            "Epoch 19/50\n",
            "48000/48000 [==============================] - 1s 25us/sample - loss: 0.2014 - accuracy: 0.9427 - val_loss: 0.1995 - val_accuracy: 0.9447\n",
            "Epoch 20/50\n",
            "48000/48000 [==============================] - 1s 25us/sample - loss: 0.1960 - accuracy: 0.9445 - val_loss: 0.1952 - val_accuracy: 0.9467\n",
            "Epoch 21/50\n",
            "48000/48000 [==============================] - 1s 25us/sample - loss: 0.1912 - accuracy: 0.9462 - val_loss: 0.1912 - val_accuracy: 0.9469\n",
            "Epoch 22/50\n",
            "48000/48000 [==============================] - 1s 25us/sample - loss: 0.1863 - accuracy: 0.9472 - val_loss: 0.1867 - val_accuracy: 0.9481\n",
            "Epoch 23/50\n",
            "48000/48000 [==============================] - 1s 25us/sample - loss: 0.1816 - accuracy: 0.9482 - val_loss: 0.1827 - val_accuracy: 0.9495\n",
            "Epoch 24/50\n",
            "48000/48000 [==============================] - 1s 25us/sample - loss: 0.1773 - accuracy: 0.9498 - val_loss: 0.1794 - val_accuracy: 0.9500\n",
            "Epoch 25/50\n",
            "48000/48000 [==============================] - 1s 25us/sample - loss: 0.1729 - accuracy: 0.9511 - val_loss: 0.1782 - val_accuracy: 0.9509\n",
            "Epoch 26/50\n",
            "48000/48000 [==============================] - 1s 25us/sample - loss: 0.1690 - accuracy: 0.9519 - val_loss: 0.1738 - val_accuracy: 0.9525\n",
            "Epoch 27/50\n",
            "48000/48000 [==============================] - 1s 26us/sample - loss: 0.1651 - accuracy: 0.9529 - val_loss: 0.1704 - val_accuracy: 0.9537\n",
            "Epoch 28/50\n",
            "48000/48000 [==============================] - 1s 25us/sample - loss: 0.1614 - accuracy: 0.9543 - val_loss: 0.1687 - val_accuracy: 0.9533\n",
            "Epoch 29/50\n",
            "48000/48000 [==============================] - 1s 26us/sample - loss: 0.1580 - accuracy: 0.9555 - val_loss: 0.1660 - val_accuracy: 0.9550\n",
            "Epoch 30/50\n",
            "48000/48000 [==============================] - 1s 25us/sample - loss: 0.1545 - accuracy: 0.9563 - val_loss: 0.1624 - val_accuracy: 0.9561\n",
            "Epoch 31/50\n",
            "48000/48000 [==============================] - 1s 25us/sample - loss: 0.1513 - accuracy: 0.9567 - val_loss: 0.1604 - val_accuracy: 0.9567\n",
            "Epoch 32/50\n",
            "48000/48000 [==============================] - 1s 26us/sample - loss: 0.1480 - accuracy: 0.9584 - val_loss: 0.1572 - val_accuracy: 0.9569\n",
            "Epoch 33/50\n",
            "48000/48000 [==============================] - 1s 25us/sample - loss: 0.1452 - accuracy: 0.9588 - val_loss: 0.1555 - val_accuracy: 0.9581\n",
            "Epoch 34/50\n",
            "48000/48000 [==============================] - 1s 25us/sample - loss: 0.1420 - accuracy: 0.9595 - val_loss: 0.1536 - val_accuracy: 0.9582\n",
            "Epoch 35/50\n",
            "48000/48000 [==============================] - 1s 26us/sample - loss: 0.1392 - accuracy: 0.9606 - val_loss: 0.1522 - val_accuracy: 0.9581\n",
            "Epoch 36/50\n",
            "48000/48000 [==============================] - 1s 25us/sample - loss: 0.1366 - accuracy: 0.9612 - val_loss: 0.1504 - val_accuracy: 0.9592\n",
            "Epoch 37/50\n",
            "48000/48000 [==============================] - 1s 26us/sample - loss: 0.1338 - accuracy: 0.9619 - val_loss: 0.1473 - val_accuracy: 0.9599\n",
            "Epoch 38/50\n",
            "48000/48000 [==============================] - 1s 25us/sample - loss: 0.1315 - accuracy: 0.9628 - val_loss: 0.1448 - val_accuracy: 0.9603\n",
            "Epoch 39/50\n",
            "48000/48000 [==============================] - 1s 26us/sample - loss: 0.1290 - accuracy: 0.9630 - val_loss: 0.1436 - val_accuracy: 0.9601\n",
            "Epoch 40/50\n",
            "48000/48000 [==============================] - 1s 25us/sample - loss: 0.1265 - accuracy: 0.9644 - val_loss: 0.1424 - val_accuracy: 0.9606\n",
            "Epoch 41/50\n",
            "48000/48000 [==============================] - 1s 25us/sample - loss: 0.1242 - accuracy: 0.9654 - val_loss: 0.1404 - val_accuracy: 0.9617\n",
            "Epoch 42/50\n",
            "48000/48000 [==============================] - 1s 25us/sample - loss: 0.1221 - accuracy: 0.9659 - val_loss: 0.1390 - val_accuracy: 0.9617\n",
            "Epoch 43/50\n",
            "48000/48000 [==============================] - 1s 26us/sample - loss: 0.1199 - accuracy: 0.9665 - val_loss: 0.1384 - val_accuracy: 0.9621\n",
            "Epoch 44/50\n",
            "48000/48000 [==============================] - 1s 25us/sample - loss: 0.1178 - accuracy: 0.9672 - val_loss: 0.1360 - val_accuracy: 0.9623\n",
            "Epoch 45/50\n",
            "48000/48000 [==============================] - 1s 25us/sample - loss: 0.1157 - accuracy: 0.9676 - val_loss: 0.1344 - val_accuracy: 0.9630\n",
            "Epoch 46/50\n",
            "48000/48000 [==============================] - 1s 25us/sample - loss: 0.1137 - accuracy: 0.9681 - val_loss: 0.1332 - val_accuracy: 0.9628\n",
            "Epoch 47/50\n",
            "48000/48000 [==============================] - 1s 26us/sample - loss: 0.1119 - accuracy: 0.9689 - val_loss: 0.1318 - val_accuracy: 0.9640\n",
            "Epoch 48/50\n",
            "48000/48000 [==============================] - 1s 25us/sample - loss: 0.1098 - accuracy: 0.9693 - val_loss: 0.1298 - val_accuracy: 0.9642\n",
            "Epoch 49/50\n",
            "48000/48000 [==============================] - 1s 26us/sample - loss: 0.1081 - accuracy: 0.9698 - val_loss: 0.1295 - val_accuracy: 0.9643\n",
            "Epoch 50/50\n",
            "48000/48000 [==============================] - 1s 26us/sample - loss: 0.1060 - accuracy: 0.9711 - val_loss: 0.1279 - val_accuracy: 0.9650\n"
          ],
          "name": "stdout"
        },
        {
          "output_type": "execute_result",
          "data": {
            "text/plain": [
              "<tensorflow.python.keras.callbacks.History at 0x7f679043a2b0>"
            ]
          },
          "metadata": {
            "tags": []
          },
          "execution_count": 12
        }
      ]
    },
    {
      "cell_type": "code",
      "metadata": {
        "id": "hL66-xp7JFWC",
        "colab_type": "code",
        "outputId": "2290e8ac-de77-4487-ec28-368aa2a02c13",
        "colab": {
          "base_uri": "https://localhost:8080/",
          "height": 51
        }
      },
      "source": [
        "# Evaluating the model.\n",
        "test_loss, test_acc = model.evaluate(X_test, Y_test)\n",
        "print('Test accuracy:', test_acc)\n"
      ],
      "execution_count": 0,
      "outputs": [
        {
          "output_type": "stream",
          "text": [
            "10000/10000 [==============================] - 1s 66us/sample - loss: 0.1251 - accuracy: 0.9628\n",
            "Test accuracy: 0.9628\n"
          ],
          "name": "stdout"
        }
      ]
    }
  ]
}