{
  "nbformat": 4,
  "nbformat_minor": 0,
  "metadata": {
    "colab": {
      "name": "TFMinstDropOutAdam.ipynb",
      "provenance": []
    },
    "kernelspec": {
      "name": "python3",
      "display_name": "Python 3"
    },
    "accelerator": "GPU"
  },
  "cells": [
    {
      "cell_type": "code",
      "metadata": {
        "id": "s5Eo0QEANThi",
        "colab_type": "code",
        "outputId": "1cb8fbd8-57bd-4fce-cada-cbe0d9744b58",
        "colab": {
          "base_uri": "https://localhost:8080/",
          "height": 606
        }
      },
      "source": [
        "pip install tensorflow"
      ],
      "execution_count": 0,
      "outputs": [
        {
          "output_type": "stream",
          "text": [
            "Requirement already satisfied: tensorflow in /usr/local/lib/python3.6/dist-packages (2.2.0rc2)\n",
            "Requirement already satisfied: keras-preprocessing>=1.1.0 in /usr/local/lib/python3.6/dist-packages (from tensorflow) (1.1.0)\n",
            "Requirement already satisfied: astunparse==1.6.3 in /usr/local/lib/python3.6/dist-packages (from tensorflow) (1.6.3)\n",
            "Requirement already satisfied: wrapt>=1.11.1 in /usr/local/lib/python3.6/dist-packages (from tensorflow) (1.12.1)\n",
            "Requirement already satisfied: gast==0.3.3 in /usr/local/lib/python3.6/dist-packages (from tensorflow) (0.3.3)\n",
            "Requirement already satisfied: protobuf>=3.8.0 in /usr/local/lib/python3.6/dist-packages (from tensorflow) (3.10.0)\n",
            "Requirement already satisfied: grpcio>=1.8.6 in /usr/local/lib/python3.6/dist-packages (from tensorflow) (1.27.2)\n",
            "Requirement already satisfied: google-pasta>=0.1.8 in /usr/local/lib/python3.6/dist-packages (from tensorflow) (0.2.0)\n",
            "Requirement already satisfied: opt-einsum>=2.3.2 in /usr/local/lib/python3.6/dist-packages (from tensorflow) (3.2.0)\n",
            "Requirement already satisfied: numpy<2.0,>=1.16.0 in /usr/local/lib/python3.6/dist-packages (from tensorflow) (1.18.2)\n",
            "Requirement already satisfied: tensorboard<2.3.0,>=2.2.0 in /usr/local/lib/python3.6/dist-packages (from tensorflow) (2.2.0)\n",
            "Requirement already satisfied: wheel>=0.26; python_version >= \"3\" in /usr/local/lib/python3.6/dist-packages (from tensorflow) (0.34.2)\n",
            "Requirement already satisfied: six>=1.12.0 in /usr/local/lib/python3.6/dist-packages (from tensorflow) (1.12.0)\n",
            "Requirement already satisfied: h5py<2.11.0,>=2.10.0 in /usr/local/lib/python3.6/dist-packages (from tensorflow) (2.10.0)\n",
            "Requirement already satisfied: termcolor>=1.1.0 in /usr/local/lib/python3.6/dist-packages (from tensorflow) (1.1.0)\n",
            "Requirement already satisfied: absl-py>=0.7.0 in /usr/local/lib/python3.6/dist-packages (from tensorflow) (0.9.0)\n",
            "Requirement already satisfied: tensorflow-estimator<2.3.0,>=2.2.0rc0 in /usr/local/lib/python3.6/dist-packages (from tensorflow) (2.2.0rc0)\n",
            "Requirement already satisfied: scipy==1.4.1; python_version >= \"3\" in /usr/local/lib/python3.6/dist-packages (from tensorflow) (1.4.1)\n",
            "Requirement already satisfied: setuptools in /usr/local/lib/python3.6/dist-packages (from protobuf>=3.8.0->tensorflow) (46.0.0)\n",
            "Requirement already satisfied: tensorboard-plugin-wit>=1.6.0 in /usr/local/lib/python3.6/dist-packages (from tensorboard<2.3.0,>=2.2.0->tensorflow) (1.6.0.post2)\n",
            "Requirement already satisfied: markdown>=2.6.8 in /usr/local/lib/python3.6/dist-packages (from tensorboard<2.3.0,>=2.2.0->tensorflow) (3.2.1)\n",
            "Requirement already satisfied: requests<3,>=2.21.0 in /usr/local/lib/python3.6/dist-packages (from tensorboard<2.3.0,>=2.2.0->tensorflow) (2.21.0)\n",
            "Requirement already satisfied: google-auth-oauthlib<0.5,>=0.4.1 in /usr/local/lib/python3.6/dist-packages (from tensorboard<2.3.0,>=2.2.0->tensorflow) (0.4.1)\n",
            "Requirement already satisfied: werkzeug>=0.11.15 in /usr/local/lib/python3.6/dist-packages (from tensorboard<2.3.0,>=2.2.0->tensorflow) (1.0.1)\n",
            "Requirement already satisfied: google-auth<2,>=1.6.3 in /usr/local/lib/python3.6/dist-packages (from tensorboard<2.3.0,>=2.2.0->tensorflow) (1.7.2)\n",
            "Requirement already satisfied: chardet<3.1.0,>=3.0.2 in /usr/local/lib/python3.6/dist-packages (from requests<3,>=2.21.0->tensorboard<2.3.0,>=2.2.0->tensorflow) (3.0.4)\n",
            "Requirement already satisfied: urllib3<1.25,>=1.21.1 in /usr/local/lib/python3.6/dist-packages (from requests<3,>=2.21.0->tensorboard<2.3.0,>=2.2.0->tensorflow) (1.24.3)\n",
            "Requirement already satisfied: idna<2.9,>=2.5 in /usr/local/lib/python3.6/dist-packages (from requests<3,>=2.21.0->tensorboard<2.3.0,>=2.2.0->tensorflow) (2.8)\n",
            "Requirement already satisfied: certifi>=2017.4.17 in /usr/local/lib/python3.6/dist-packages (from requests<3,>=2.21.0->tensorboard<2.3.0,>=2.2.0->tensorflow) (2019.11.28)\n",
            "Requirement already satisfied: requests-oauthlib>=0.7.0 in /usr/local/lib/python3.6/dist-packages (from google-auth-oauthlib<0.5,>=0.4.1->tensorboard<2.3.0,>=2.2.0->tensorflow) (1.3.0)\n",
            "Requirement already satisfied: pyasn1-modules>=0.2.1 in /usr/local/lib/python3.6/dist-packages (from google-auth<2,>=1.6.3->tensorboard<2.3.0,>=2.2.0->tensorflow) (0.2.8)\n",
            "Requirement already satisfied: rsa<4.1,>=3.1.4 in /usr/local/lib/python3.6/dist-packages (from google-auth<2,>=1.6.3->tensorboard<2.3.0,>=2.2.0->tensorflow) (4.0)\n",
            "Requirement already satisfied: cachetools<3.2,>=2.0.0 in /usr/local/lib/python3.6/dist-packages (from google-auth<2,>=1.6.3->tensorboard<2.3.0,>=2.2.0->tensorflow) (3.1.1)\n",
            "Requirement already satisfied: oauthlib>=3.0.0 in /usr/local/lib/python3.6/dist-packages (from requests-oauthlib>=0.7.0->google-auth-oauthlib<0.5,>=0.4.1->tensorboard<2.3.0,>=2.2.0->tensorflow) (3.1.0)\n",
            "Requirement already satisfied: pyasn1<0.5.0,>=0.4.6 in /usr/local/lib/python3.6/dist-packages (from pyasn1-modules>=0.2.1->google-auth<2,>=1.6.3->tensorboard<2.3.0,>=2.2.0->tensorflow) (0.4.8)\n"
          ],
          "name": "stdout"
        }
      ]
    },
    {
      "cell_type": "code",
      "metadata": {
        "id": "Zo6FJCk6delC",
        "colab_type": "code",
        "colab": {}
      },
      "source": [
        "from google.colab import drive\n",
        "drive.mount('/content/drive')"
      ],
      "execution_count": 0,
      "outputs": []
    },
    {
      "cell_type": "code",
      "metadata": {
        "id": "JZZ-oZVpOGUC",
        "colab_type": "code",
        "colab": {}
      },
      "source": [
        "import tensorflow as tf\n",
        "import numpy as np\n",
        "from tensorflow import keras\n",
        "# Network and training.\n",
        "EPOCHS = 200\n",
        "BATCH_SIZE = 128\n",
        "VERBOSE = 1\n",
        "NB_CLASSES = 10   # number of outputs = number of digits\n",
        "N_HIDDEN = 128\n",
        "VALIDATION_SPLIT = 0.2 # how much TRAIN is reserved for VALIDATION\n",
        "DROPOUT = 0.3"
      ],
      "execution_count": 0,
      "outputs": []
    },
    {
      "cell_type": "code",
      "metadata": {
        "id": "JjBA3ZuOQJN7",
        "colab_type": "code",
        "colab": {}
      },
      "source": [
        "# Loading MNIST dataset.\n",
        "   # verify\n",
        "   # You can verify that the split between train and test is 60,000, and 10,000 respectively.\n",
        "   # Labels have one-hot representation.is automatically applied\n",
        "mnist = keras.datasets.mnist\n"
      ],
      "execution_count": 0,
      "outputs": []
    },
    {
      "cell_type": "code",
      "metadata": {
        "id": "LaEkISokQ2va",
        "colab_type": "code",
        "outputId": "e2266523-ba68-4349-f390-0ce6de68ee09",
        "colab": {
          "base_uri": "https://localhost:8080/",
          "height": 50
        }
      },
      "source": [
        "(X_train, Y_train), (X_test, Y_test) = mnist.load_data()"
      ],
      "execution_count": 0,
      "outputs": [
        {
          "output_type": "stream",
          "text": [
            "Downloading data from https://storage.googleapis.com/tensorflow/tf-keras-datasets/mnist.npz\n",
            "11493376/11490434 [==============================] - 0s 0us/step\n"
          ],
          "name": "stdout"
        }
      ]
    },
    {
      "cell_type": "code",
      "metadata": {
        "id": "ObvnlaA1Q54f",
        "colab_type": "code",
        "colab": {}
      },
      "source": [
        "# X_train is 60000 rows of 28x28 values; we reshape it to 60000 x 784.\n",
        "RESHAPED = 784\n",
        "X_train = X_train.reshape(60000, RESHAPED)\n",
        "X_test = X_test.reshape(10000, RESHAPED)\n",
        "X_train = X_train.astype('float32')\n",
        "X_test = X_test.astype('float32')"
      ],
      "execution_count": 0,
      "outputs": []
    },
    {
      "cell_type": "code",
      "metadata": {
        "id": "z54XyZk3RIeL",
        "colab_type": "code",
        "colab": {}
      },
      "source": [
        "# Normalize inputs to be within in [0, 1].\n",
        "X_train, X_test = X_train / 255.0, X_test / 255.0"
      ],
      "execution_count": 0,
      "outputs": []
    },
    {
      "cell_type": "code",
      "metadata": {
        "id": "N3y60knLRJtP",
        "colab_type": "code",
        "outputId": "175b7fde-6e3e-4c14-804e-6039e0045a19",
        "colab": {
          "base_uri": "https://localhost:8080/",
          "height": 33
        }
      },
      "source": [
        "print(X_train.shape[0], 'train samples')"
      ],
      "execution_count": 0,
      "outputs": [
        {
          "output_type": "stream",
          "text": [
            "60000 train samples\n"
          ],
          "name": "stdout"
        }
      ]
    },
    {
      "cell_type": "code",
      "metadata": {
        "id": "EFdS6m-mRNIV",
        "colab_type": "code",
        "outputId": "bb97688c-fb07-4f5a-e168-6dd30f46bd86",
        "colab": {
          "base_uri": "https://localhost:8080/",
          "height": 33
        }
      },
      "source": [
        "print(X_test.shape[0], 'test samples')\n"
      ],
      "execution_count": 0,
      "outputs": [
        {
          "output_type": "stream",
          "text": [
            "10000 test samples\n"
          ],
          "name": "stdout"
        }
      ]
    },
    {
      "cell_type": "code",
      "metadata": {
        "id": "NQTTCbPRRRwD",
        "colab_type": "code",
        "outputId": "670c191f-ef3a-472c-960b-71008c4ccf22",
        "colab": {
          "base_uri": "https://localhost:8080/",
          "height": 310
        }
      },
      "source": [
        "Y_train = tf.keras.utils.to_categorical(Y_train, NB_CLASSES)\n",
        "Y_test = tf.keras.utils.to_categorical(Y_test, NB_CLASSES)\n",
        "# Building the model.\n",
        "model = tf.keras.models.Sequential()\n",
        "model.add(keras.layers.Dense(N_HIDDEN,\n",
        "             input_shape=(RESHAPED,),\n",
        "             name='dense_layer', activation='relu'))\n",
        "model.add(keras.layers.Dropout(DROPOUT))\n",
        "model.add(keras.layers.Dense(N_HIDDEN,\n",
        "             name='dense_layer_2', activation='relu'))\n",
        "model.add(keras.layers.Dropout(DROPOUT))\n",
        "model.add(keras.layers.Dense(NB_CLASSES,\n",
        "             name='dense_layer_3', activation='softmax'))\n",
        "   # Summary of the model.\n",
        "model.summary()\n"
      ],
      "execution_count": 0,
      "outputs": [
        {
          "output_type": "stream",
          "text": [
            "Model: \"sequential\"\n",
            "_________________________________________________________________\n",
            "Layer (type)                 Output Shape              Param #   \n",
            "=================================================================\n",
            "dense_layer (Dense)          (None, 128)               100480    \n",
            "_________________________________________________________________\n",
            "dropout (Dropout)            (None, 128)               0         \n",
            "_________________________________________________________________\n",
            "dense_layer_2 (Dense)        (None, 128)               16512     \n",
            "_________________________________________________________________\n",
            "dropout_1 (Dropout)          (None, 128)               0         \n",
            "_________________________________________________________________\n",
            "dense_layer_3 (Dense)        (None, 10)                1290      \n",
            "=================================================================\n",
            "Total params: 118,282\n",
            "Trainable params: 118,282\n",
            "Non-trainable params: 0\n",
            "_________________________________________________________________\n"
          ],
          "name": "stdout"
        }
      ]
    },
    {
      "cell_type": "code",
      "metadata": {
        "id": "yoT-OpkuRjVv",
        "colab_type": "code",
        "colab": {}
      },
      "source": [
        "# Compiling the model.\n",
        "model.compile(optimizer='Adam',\n",
        "                 loss='categorical_crossentropy',\n",
        "                 metrics=['accuracy'])"
      ],
      "execution_count": 0,
      "outputs": []
    },
    {
      "cell_type": "code",
      "metadata": {
        "id": "-YH2DwY8RwUi",
        "colab_type": "code",
        "outputId": "56b9b2a3-5c96-424e-abbd-d5b324cfe863",
        "colab": {
          "base_uri": "https://localhost:8080/",
          "height": 1000
        }
      },
      "source": [
        "# Training the model.\n",
        "model.fit(X_train, Y_train, batch_size=BATCH_SIZE, epochs=EPOCHS, verbose=VERBOSE, validation_split=VALIDATION_SPLIT)\n"
      ],
      "execution_count": 0,
      "outputs": [
        {
          "output_type": "stream",
          "text": [
            "Epoch 1/200\n",
            "375/375 [==============================] - 1s 3ms/step - loss: 0.5138 - accuracy: 0.8447 - val_loss: 0.1913 - val_accuracy: 0.9442\n",
            "Epoch 2/200\n",
            "375/375 [==============================] - 1s 3ms/step - loss: 0.2366 - accuracy: 0.9295 - val_loss: 0.1419 - val_accuracy: 0.9569\n",
            "Epoch 3/200\n",
            "375/375 [==============================] - 1s 3ms/step - loss: 0.1782 - accuracy: 0.9467 - val_loss: 0.1156 - val_accuracy: 0.9647\n",
            "Epoch 4/200\n",
            "375/375 [==============================] - 1s 3ms/step - loss: 0.1500 - accuracy: 0.9557 - val_loss: 0.1031 - val_accuracy: 0.9703\n",
            "Epoch 5/200\n",
            "375/375 [==============================] - 1s 3ms/step - loss: 0.1308 - accuracy: 0.9605 - val_loss: 0.1024 - val_accuracy: 0.9693\n",
            "Epoch 6/200\n",
            "375/375 [==============================] - 1s 3ms/step - loss: 0.1168 - accuracy: 0.9646 - val_loss: 0.0984 - val_accuracy: 0.9703\n",
            "Epoch 7/200\n",
            "375/375 [==============================] - 1s 3ms/step - loss: 0.1073 - accuracy: 0.9664 - val_loss: 0.0908 - val_accuracy: 0.9753\n",
            "Epoch 8/200\n",
            "375/375 [==============================] - 1s 3ms/step - loss: 0.0960 - accuracy: 0.9692 - val_loss: 0.0933 - val_accuracy: 0.9732\n",
            "Epoch 9/200\n",
            "375/375 [==============================] - 1s 3ms/step - loss: 0.0914 - accuracy: 0.9719 - val_loss: 0.0902 - val_accuracy: 0.9749\n",
            "Epoch 10/200\n",
            "375/375 [==============================] - 1s 3ms/step - loss: 0.0833 - accuracy: 0.9736 - val_loss: 0.0863 - val_accuracy: 0.9767\n",
            "Epoch 11/200\n",
            "375/375 [==============================] - 1s 3ms/step - loss: 0.0817 - accuracy: 0.9744 - val_loss: 0.0852 - val_accuracy: 0.9772\n",
            "Epoch 12/200\n",
            "375/375 [==============================] - 1s 3ms/step - loss: 0.0747 - accuracy: 0.9760 - val_loss: 0.0824 - val_accuracy: 0.9762\n",
            "Epoch 13/200\n",
            "375/375 [==============================] - 1s 3ms/step - loss: 0.0713 - accuracy: 0.9764 - val_loss: 0.0829 - val_accuracy: 0.9772\n",
            "Epoch 14/200\n",
            "375/375 [==============================] - 1s 3ms/step - loss: 0.0650 - accuracy: 0.9790 - val_loss: 0.0834 - val_accuracy: 0.9767\n",
            "Epoch 15/200\n",
            "375/375 [==============================] - 1s 3ms/step - loss: 0.0644 - accuracy: 0.9795 - val_loss: 0.0823 - val_accuracy: 0.9768\n",
            "Epoch 16/200\n",
            "375/375 [==============================] - 1s 3ms/step - loss: 0.0612 - accuracy: 0.9804 - val_loss: 0.0803 - val_accuracy: 0.9787\n",
            "Epoch 17/200\n",
            "375/375 [==============================] - 1s 3ms/step - loss: 0.0589 - accuracy: 0.9814 - val_loss: 0.0835 - val_accuracy: 0.9774\n",
            "Epoch 18/200\n",
            "375/375 [==============================] - 1s 3ms/step - loss: 0.0606 - accuracy: 0.9802 - val_loss: 0.0832 - val_accuracy: 0.9782\n",
            "Epoch 19/200\n",
            "375/375 [==============================] - 1s 3ms/step - loss: 0.0564 - accuracy: 0.9816 - val_loss: 0.0787 - val_accuracy: 0.9786\n",
            "Epoch 20/200\n",
            "375/375 [==============================] - 1s 3ms/step - loss: 0.0553 - accuracy: 0.9816 - val_loss: 0.0808 - val_accuracy: 0.9786\n",
            "Epoch 21/200\n",
            "375/375 [==============================] - 1s 3ms/step - loss: 0.0509 - accuracy: 0.9833 - val_loss: 0.0871 - val_accuracy: 0.9785\n",
            "Epoch 22/200\n",
            "375/375 [==============================] - 1s 3ms/step - loss: 0.0494 - accuracy: 0.9838 - val_loss: 0.0843 - val_accuracy: 0.9793\n",
            "Epoch 23/200\n",
            "375/375 [==============================] - 1s 3ms/step - loss: 0.0510 - accuracy: 0.9833 - val_loss: 0.0896 - val_accuracy: 0.9772\n",
            "Epoch 24/200\n",
            "375/375 [==============================] - 1s 3ms/step - loss: 0.0476 - accuracy: 0.9846 - val_loss: 0.0905 - val_accuracy: 0.9788\n",
            "Epoch 25/200\n",
            "375/375 [==============================] - 1s 3ms/step - loss: 0.0486 - accuracy: 0.9838 - val_loss: 0.0852 - val_accuracy: 0.9788\n",
            "Epoch 26/200\n",
            "375/375 [==============================] - 1s 3ms/step - loss: 0.0441 - accuracy: 0.9851 - val_loss: 0.0865 - val_accuracy: 0.9800\n",
            "Epoch 27/200\n",
            "375/375 [==============================] - 1s 3ms/step - loss: 0.0463 - accuracy: 0.9844 - val_loss: 0.0834 - val_accuracy: 0.9794\n",
            "Epoch 28/200\n",
            "375/375 [==============================] - 1s 3ms/step - loss: 0.0418 - accuracy: 0.9860 - val_loss: 0.0882 - val_accuracy: 0.9783\n",
            "Epoch 29/200\n",
            "375/375 [==============================] - 1s 3ms/step - loss: 0.0430 - accuracy: 0.9857 - val_loss: 0.0913 - val_accuracy: 0.9785\n",
            "Epoch 30/200\n",
            "375/375 [==============================] - 1s 3ms/step - loss: 0.0433 - accuracy: 0.9854 - val_loss: 0.0894 - val_accuracy: 0.9782\n",
            "Epoch 31/200\n",
            "375/375 [==============================] - 1s 3ms/step - loss: 0.0385 - accuracy: 0.9868 - val_loss: 0.0858 - val_accuracy: 0.9800\n",
            "Epoch 32/200\n",
            "375/375 [==============================] - 1s 3ms/step - loss: 0.0422 - accuracy: 0.9861 - val_loss: 0.0861 - val_accuracy: 0.9787\n",
            "Epoch 33/200\n",
            "375/375 [==============================] - 1s 3ms/step - loss: 0.0390 - accuracy: 0.9868 - val_loss: 0.0868 - val_accuracy: 0.9802\n",
            "Epoch 34/200\n",
            "375/375 [==============================] - 1s 3ms/step - loss: 0.0403 - accuracy: 0.9866 - val_loss: 0.0839 - val_accuracy: 0.9807\n",
            "Epoch 35/200\n",
            "375/375 [==============================] - 1s 3ms/step - loss: 0.0389 - accuracy: 0.9866 - val_loss: 0.0871 - val_accuracy: 0.9808\n",
            "Epoch 36/200\n",
            "375/375 [==============================] - 1s 3ms/step - loss: 0.0387 - accuracy: 0.9869 - val_loss: 0.0872 - val_accuracy: 0.9793\n",
            "Epoch 37/200\n",
            "375/375 [==============================] - 1s 3ms/step - loss: 0.0369 - accuracy: 0.9883 - val_loss: 0.0896 - val_accuracy: 0.9797\n",
            "Epoch 38/200\n",
            "375/375 [==============================] - 1s 3ms/step - loss: 0.0357 - accuracy: 0.9881 - val_loss: 0.0898 - val_accuracy: 0.9803\n",
            "Epoch 39/200\n",
            "375/375 [==============================] - 1s 3ms/step - loss: 0.0367 - accuracy: 0.9876 - val_loss: 0.0871 - val_accuracy: 0.9803\n",
            "Epoch 40/200\n",
            "375/375 [==============================] - 1s 3ms/step - loss: 0.0348 - accuracy: 0.9888 - val_loss: 0.0971 - val_accuracy: 0.9781\n",
            "Epoch 41/200\n",
            "375/375 [==============================] - 1s 3ms/step - loss: 0.0359 - accuracy: 0.9879 - val_loss: 0.0864 - val_accuracy: 0.9803\n",
            "Epoch 42/200\n",
            "375/375 [==============================] - 1s 3ms/step - loss: 0.0328 - accuracy: 0.9892 - val_loss: 0.0877 - val_accuracy: 0.9796\n",
            "Epoch 43/200\n",
            "375/375 [==============================] - 1s 3ms/step - loss: 0.0331 - accuracy: 0.9892 - val_loss: 0.0840 - val_accuracy: 0.9805\n",
            "Epoch 44/200\n",
            "375/375 [==============================] - 1s 3ms/step - loss: 0.0329 - accuracy: 0.9887 - val_loss: 0.0906 - val_accuracy: 0.9793\n",
            "Epoch 45/200\n",
            "375/375 [==============================] - 1s 3ms/step - loss: 0.0321 - accuracy: 0.9890 - val_loss: 0.0944 - val_accuracy: 0.9797\n",
            "Epoch 46/200\n",
            "375/375 [==============================] - 1s 3ms/step - loss: 0.0338 - accuracy: 0.9886 - val_loss: 0.0918 - val_accuracy: 0.9796\n",
            "Epoch 47/200\n",
            "375/375 [==============================] - 1s 3ms/step - loss: 0.0349 - accuracy: 0.9879 - val_loss: 0.0934 - val_accuracy: 0.9796\n",
            "Epoch 48/200\n",
            "375/375 [==============================] - 1s 3ms/step - loss: 0.0304 - accuracy: 0.9901 - val_loss: 0.0905 - val_accuracy: 0.9803\n",
            "Epoch 49/200\n",
            "375/375 [==============================] - 1s 3ms/step - loss: 0.0332 - accuracy: 0.9893 - val_loss: 0.0910 - val_accuracy: 0.9797\n",
            "Epoch 50/200\n",
            "375/375 [==============================] - 1s 3ms/step - loss: 0.0317 - accuracy: 0.9896 - val_loss: 0.0942 - val_accuracy: 0.9792\n",
            "Epoch 51/200\n",
            "375/375 [==============================] - 1s 3ms/step - loss: 0.0301 - accuracy: 0.9899 - val_loss: 0.0875 - val_accuracy: 0.9802\n",
            "Epoch 52/200\n",
            "375/375 [==============================] - 1s 3ms/step - loss: 0.0281 - accuracy: 0.9909 - val_loss: 0.0881 - val_accuracy: 0.9803\n",
            "Epoch 53/200\n",
            "375/375 [==============================] - 1s 3ms/step - loss: 0.0306 - accuracy: 0.9898 - val_loss: 0.0966 - val_accuracy: 0.9790\n",
            "Epoch 54/200\n",
            "375/375 [==============================] - 1s 3ms/step - loss: 0.0307 - accuracy: 0.9900 - val_loss: 0.0889 - val_accuracy: 0.9797\n",
            "Epoch 55/200\n",
            "375/375 [==============================] - 1s 3ms/step - loss: 0.0313 - accuracy: 0.9893 - val_loss: 0.0949 - val_accuracy: 0.9803\n",
            "Epoch 56/200\n",
            "375/375 [==============================] - 1s 3ms/step - loss: 0.0321 - accuracy: 0.9886 - val_loss: 0.0896 - val_accuracy: 0.9800\n",
            "Epoch 57/200\n",
            "375/375 [==============================] - 1s 3ms/step - loss: 0.0291 - accuracy: 0.9899 - val_loss: 0.0919 - val_accuracy: 0.9797\n",
            "Epoch 58/200\n",
            "375/375 [==============================] - 1s 3ms/step - loss: 0.0291 - accuracy: 0.9905 - val_loss: 0.0888 - val_accuracy: 0.9808\n",
            "Epoch 59/200\n",
            "375/375 [==============================] - 1s 3ms/step - loss: 0.0298 - accuracy: 0.9906 - val_loss: 0.0913 - val_accuracy: 0.9794\n",
            "Epoch 60/200\n",
            "375/375 [==============================] - 1s 3ms/step - loss: 0.0269 - accuracy: 0.9912 - val_loss: 0.0977 - val_accuracy: 0.9803\n",
            "Epoch 61/200\n",
            "375/375 [==============================] - 1s 3ms/step - loss: 0.0265 - accuracy: 0.9912 - val_loss: 0.0935 - val_accuracy: 0.9802\n",
            "Epoch 62/200\n",
            "375/375 [==============================] - 1s 3ms/step - loss: 0.0274 - accuracy: 0.9912 - val_loss: 0.1002 - val_accuracy: 0.9797\n",
            "Epoch 63/200\n",
            "375/375 [==============================] - 1s 3ms/step - loss: 0.0283 - accuracy: 0.9906 - val_loss: 0.0948 - val_accuracy: 0.9787\n",
            "Epoch 64/200\n",
            "375/375 [==============================] - 1s 3ms/step - loss: 0.0294 - accuracy: 0.9902 - val_loss: 0.0936 - val_accuracy: 0.9798\n",
            "Epoch 65/200\n",
            "375/375 [==============================] - 1s 3ms/step - loss: 0.0274 - accuracy: 0.9906 - val_loss: 0.1073 - val_accuracy: 0.9793\n",
            "Epoch 66/200\n",
            "375/375 [==============================] - 1s 3ms/step - loss: 0.0267 - accuracy: 0.9915 - val_loss: 0.1043 - val_accuracy: 0.9791\n",
            "Epoch 67/200\n",
            "375/375 [==============================] - 1s 3ms/step - loss: 0.0271 - accuracy: 0.9910 - val_loss: 0.1012 - val_accuracy: 0.9806\n",
            "Epoch 68/200\n",
            "375/375 [==============================] - 1s 3ms/step - loss: 0.0279 - accuracy: 0.9904 - val_loss: 0.1034 - val_accuracy: 0.9799\n",
            "Epoch 69/200\n",
            "375/375 [==============================] - 1s 3ms/step - loss: 0.0292 - accuracy: 0.9903 - val_loss: 0.1115 - val_accuracy: 0.9787\n",
            "Epoch 70/200\n",
            "375/375 [==============================] - 1s 3ms/step - loss: 0.0272 - accuracy: 0.9908 - val_loss: 0.0972 - val_accuracy: 0.9800\n",
            "Epoch 71/200\n",
            "375/375 [==============================] - 1s 3ms/step - loss: 0.0268 - accuracy: 0.9910 - val_loss: 0.1058 - val_accuracy: 0.9811\n",
            "Epoch 72/200\n",
            "375/375 [==============================] - 1s 3ms/step - loss: 0.0279 - accuracy: 0.9907 - val_loss: 0.0976 - val_accuracy: 0.9798\n",
            "Epoch 73/200\n",
            "375/375 [==============================] - 1s 3ms/step - loss: 0.0244 - accuracy: 0.9914 - val_loss: 0.1028 - val_accuracy: 0.9810\n",
            "Epoch 74/200\n",
            "375/375 [==============================] - 1s 3ms/step - loss: 0.0241 - accuracy: 0.9920 - val_loss: 0.1049 - val_accuracy: 0.9801\n",
            "Epoch 75/200\n",
            "375/375 [==============================] - 1s 3ms/step - loss: 0.0248 - accuracy: 0.9918 - val_loss: 0.1010 - val_accuracy: 0.9793\n",
            "Epoch 76/200\n",
            "375/375 [==============================] - 1s 3ms/step - loss: 0.0242 - accuracy: 0.9920 - val_loss: 0.1027 - val_accuracy: 0.9794\n",
            "Epoch 77/200\n",
            "375/375 [==============================] - 1s 3ms/step - loss: 0.0248 - accuracy: 0.9918 - val_loss: 0.1044 - val_accuracy: 0.9799\n",
            "Epoch 78/200\n",
            "375/375 [==============================] - 1s 3ms/step - loss: 0.0256 - accuracy: 0.9915 - val_loss: 0.1031 - val_accuracy: 0.9795\n",
            "Epoch 79/200\n",
            "375/375 [==============================] - 1s 3ms/step - loss: 0.0256 - accuracy: 0.9916 - val_loss: 0.1057 - val_accuracy: 0.9805\n",
            "Epoch 80/200\n",
            "375/375 [==============================] - 1s 3ms/step - loss: 0.0263 - accuracy: 0.9916 - val_loss: 0.1027 - val_accuracy: 0.9796\n",
            "Epoch 81/200\n",
            "375/375 [==============================] - 1s 3ms/step - loss: 0.0242 - accuracy: 0.9920 - val_loss: 0.1056 - val_accuracy: 0.9806\n",
            "Epoch 82/200\n",
            "375/375 [==============================] - 1s 3ms/step - loss: 0.0252 - accuracy: 0.9915 - val_loss: 0.1066 - val_accuracy: 0.9796\n",
            "Epoch 83/200\n",
            "375/375 [==============================] - 1s 3ms/step - loss: 0.0245 - accuracy: 0.9922 - val_loss: 0.0970 - val_accuracy: 0.9810\n",
            "Epoch 84/200\n",
            "375/375 [==============================] - 1s 3ms/step - loss: 0.0234 - accuracy: 0.9921 - val_loss: 0.1048 - val_accuracy: 0.9805\n",
            "Epoch 85/200\n",
            "375/375 [==============================] - 1s 3ms/step - loss: 0.0215 - accuracy: 0.9930 - val_loss: 0.1073 - val_accuracy: 0.9804\n",
            "Epoch 86/200\n",
            "375/375 [==============================] - 1s 3ms/step - loss: 0.0246 - accuracy: 0.9921 - val_loss: 0.1125 - val_accuracy: 0.9786\n",
            "Epoch 87/200\n",
            "375/375 [==============================] - 1s 3ms/step - loss: 0.0223 - accuracy: 0.9930 - val_loss: 0.1038 - val_accuracy: 0.9811\n",
            "Epoch 88/200\n",
            "375/375 [==============================] - 1s 3ms/step - loss: 0.0246 - accuracy: 0.9919 - val_loss: 0.1072 - val_accuracy: 0.9797\n",
            "Epoch 89/200\n",
            "375/375 [==============================] - 1s 3ms/step - loss: 0.0264 - accuracy: 0.9917 - val_loss: 0.1001 - val_accuracy: 0.9793\n",
            "Epoch 90/200\n",
            "375/375 [==============================] - 1s 3ms/step - loss: 0.0246 - accuracy: 0.9917 - val_loss: 0.1041 - val_accuracy: 0.9793\n",
            "Epoch 91/200\n",
            "375/375 [==============================] - 1s 3ms/step - loss: 0.0234 - accuracy: 0.9922 - val_loss: 0.1068 - val_accuracy: 0.9803\n",
            "Epoch 92/200\n",
            "375/375 [==============================] - 1s 3ms/step - loss: 0.0214 - accuracy: 0.9929 - val_loss: 0.1059 - val_accuracy: 0.9804\n",
            "Epoch 93/200\n",
            "375/375 [==============================] - 1s 3ms/step - loss: 0.0254 - accuracy: 0.9920 - val_loss: 0.1041 - val_accuracy: 0.9799\n",
            "Epoch 94/200\n",
            "375/375 [==============================] - 1s 3ms/step - loss: 0.0213 - accuracy: 0.9925 - val_loss: 0.1113 - val_accuracy: 0.9806\n",
            "Epoch 95/200\n",
            "375/375 [==============================] - 1s 3ms/step - loss: 0.0242 - accuracy: 0.9921 - val_loss: 0.1082 - val_accuracy: 0.9800\n",
            "Epoch 96/200\n",
            "375/375 [==============================] - 1s 3ms/step - loss: 0.0219 - accuracy: 0.9930 - val_loss: 0.1112 - val_accuracy: 0.9793\n",
            "Epoch 97/200\n",
            "375/375 [==============================] - 1s 3ms/step - loss: 0.0215 - accuracy: 0.9931 - val_loss: 0.1194 - val_accuracy: 0.9789\n",
            "Epoch 98/200\n",
            "375/375 [==============================] - 1s 3ms/step - loss: 0.0227 - accuracy: 0.9928 - val_loss: 0.1053 - val_accuracy: 0.9803\n",
            "Epoch 99/200\n",
            "375/375 [==============================] - 1s 3ms/step - loss: 0.0217 - accuracy: 0.9932 - val_loss: 0.1071 - val_accuracy: 0.9793\n",
            "Epoch 100/200\n",
            "375/375 [==============================] - 1s 3ms/step - loss: 0.0189 - accuracy: 0.9938 - val_loss: 0.1148 - val_accuracy: 0.9791\n",
            "Epoch 101/200\n",
            "375/375 [==============================] - 1s 3ms/step - loss: 0.0211 - accuracy: 0.9931 - val_loss: 0.1104 - val_accuracy: 0.9805\n",
            "Epoch 102/200\n",
            "375/375 [==============================] - 1s 3ms/step - loss: 0.0226 - accuracy: 0.9928 - val_loss: 0.1097 - val_accuracy: 0.9801\n",
            "Epoch 103/200\n",
            "375/375 [==============================] - 1s 3ms/step - loss: 0.0230 - accuracy: 0.9927 - val_loss: 0.1165 - val_accuracy: 0.9796\n",
            "Epoch 104/200\n",
            "375/375 [==============================] - 1s 3ms/step - loss: 0.0197 - accuracy: 0.9936 - val_loss: 0.1091 - val_accuracy: 0.9798\n",
            "Epoch 105/200\n",
            "375/375 [==============================] - 1s 3ms/step - loss: 0.0242 - accuracy: 0.9917 - val_loss: 0.1217 - val_accuracy: 0.9784\n",
            "Epoch 106/200\n",
            "375/375 [==============================] - 1s 3ms/step - loss: 0.0234 - accuracy: 0.9923 - val_loss: 0.1088 - val_accuracy: 0.9791\n",
            "Epoch 107/200\n",
            "375/375 [==============================] - 1s 3ms/step - loss: 0.0195 - accuracy: 0.9935 - val_loss: 0.1086 - val_accuracy: 0.9805\n",
            "Epoch 108/200\n",
            "375/375 [==============================] - 1s 3ms/step - loss: 0.0193 - accuracy: 0.9936 - val_loss: 0.1138 - val_accuracy: 0.9794\n",
            "Epoch 109/200\n",
            "375/375 [==============================] - 1s 3ms/step - loss: 0.0202 - accuracy: 0.9931 - val_loss: 0.1088 - val_accuracy: 0.9804\n",
            "Epoch 110/200\n",
            "375/375 [==============================] - 1s 3ms/step - loss: 0.0223 - accuracy: 0.9925 - val_loss: 0.1129 - val_accuracy: 0.9801\n",
            "Epoch 111/200\n",
            "375/375 [==============================] - 1s 3ms/step - loss: 0.0212 - accuracy: 0.9933 - val_loss: 0.1143 - val_accuracy: 0.9807\n",
            "Epoch 112/200\n",
            "375/375 [==============================] - 1s 3ms/step - loss: 0.0220 - accuracy: 0.9927 - val_loss: 0.1150 - val_accuracy: 0.9797\n",
            "Epoch 113/200\n",
            "375/375 [==============================] - 1s 3ms/step - loss: 0.0217 - accuracy: 0.9931 - val_loss: 0.1004 - val_accuracy: 0.9803\n",
            "Epoch 114/200\n",
            "375/375 [==============================] - 1s 3ms/step - loss: 0.0199 - accuracy: 0.9934 - val_loss: 0.1105 - val_accuracy: 0.9803\n",
            "Epoch 115/200\n",
            "375/375 [==============================] - 1s 3ms/step - loss: 0.0205 - accuracy: 0.9933 - val_loss: 0.1095 - val_accuracy: 0.9817\n",
            "Epoch 116/200\n",
            "375/375 [==============================] - 1s 3ms/step - loss: 0.0236 - accuracy: 0.9922 - val_loss: 0.1161 - val_accuracy: 0.9797\n",
            "Epoch 117/200\n",
            "375/375 [==============================] - 1s 3ms/step - loss: 0.0199 - accuracy: 0.9936 - val_loss: 0.1091 - val_accuracy: 0.9797\n",
            "Epoch 118/200\n",
            "375/375 [==============================] - 1s 3ms/step - loss: 0.0213 - accuracy: 0.9931 - val_loss: 0.1054 - val_accuracy: 0.9808\n",
            "Epoch 119/200\n",
            "375/375 [==============================] - 1s 3ms/step - loss: 0.0177 - accuracy: 0.9939 - val_loss: 0.1116 - val_accuracy: 0.9812\n",
            "Epoch 120/200\n",
            "375/375 [==============================] - 1s 3ms/step - loss: 0.0223 - accuracy: 0.9929 - val_loss: 0.1138 - val_accuracy: 0.9809\n",
            "Epoch 121/200\n",
            "375/375 [==============================] - 1s 3ms/step - loss: 0.0194 - accuracy: 0.9939 - val_loss: 0.1171 - val_accuracy: 0.9803\n",
            "Epoch 122/200\n",
            "375/375 [==============================] - 1s 3ms/step - loss: 0.0185 - accuracy: 0.9940 - val_loss: 0.1223 - val_accuracy: 0.9796\n",
            "Epoch 123/200\n",
            "375/375 [==============================] - 1s 3ms/step - loss: 0.0202 - accuracy: 0.9933 - val_loss: 0.1091 - val_accuracy: 0.9805\n",
            "Epoch 124/200\n",
            "375/375 [==============================] - 1s 3ms/step - loss: 0.0209 - accuracy: 0.9936 - val_loss: 0.1080 - val_accuracy: 0.9793\n",
            "Epoch 125/200\n",
            "375/375 [==============================] - 1s 3ms/step - loss: 0.0231 - accuracy: 0.9927 - val_loss: 0.1135 - val_accuracy: 0.9791\n",
            "Epoch 126/200\n",
            "375/375 [==============================] - 1s 3ms/step - loss: 0.0198 - accuracy: 0.9939 - val_loss: 0.1138 - val_accuracy: 0.9800\n",
            "Epoch 127/200\n",
            "375/375 [==============================] - 1s 3ms/step - loss: 0.0202 - accuracy: 0.9935 - val_loss: 0.1094 - val_accuracy: 0.9805\n",
            "Epoch 128/200\n",
            "375/375 [==============================] - 1s 3ms/step - loss: 0.0199 - accuracy: 0.9935 - val_loss: 0.1180 - val_accuracy: 0.9797\n",
            "Epoch 129/200\n",
            "375/375 [==============================] - 1s 3ms/step - loss: 0.0201 - accuracy: 0.9936 - val_loss: 0.1124 - val_accuracy: 0.9808\n",
            "Epoch 130/200\n",
            "375/375 [==============================] - 1s 3ms/step - loss: 0.0211 - accuracy: 0.9931 - val_loss: 0.1179 - val_accuracy: 0.9800\n",
            "Epoch 131/200\n",
            "375/375 [==============================] - 1s 3ms/step - loss: 0.0218 - accuracy: 0.9934 - val_loss: 0.1145 - val_accuracy: 0.9797\n",
            "Epoch 132/200\n",
            "375/375 [==============================] - 1s 3ms/step - loss: 0.0206 - accuracy: 0.9938 - val_loss: 0.1131 - val_accuracy: 0.9803\n",
            "Epoch 133/200\n",
            "375/375 [==============================] - 1s 3ms/step - loss: 0.0213 - accuracy: 0.9932 - val_loss: 0.1085 - val_accuracy: 0.9804\n",
            "Epoch 134/200\n",
            "375/375 [==============================] - 1s 3ms/step - loss: 0.0197 - accuracy: 0.9937 - val_loss: 0.1059 - val_accuracy: 0.9808\n",
            "Epoch 135/200\n",
            "375/375 [==============================] - 1s 3ms/step - loss: 0.0217 - accuracy: 0.9930 - val_loss: 0.1090 - val_accuracy: 0.9801\n",
            "Epoch 136/200\n",
            "375/375 [==============================] - 1s 3ms/step - loss: 0.0205 - accuracy: 0.9933 - val_loss: 0.1112 - val_accuracy: 0.9809\n",
            "Epoch 137/200\n",
            "375/375 [==============================] - 1s 3ms/step - loss: 0.0176 - accuracy: 0.9942 - val_loss: 0.1118 - val_accuracy: 0.9809\n",
            "Epoch 138/200\n",
            "375/375 [==============================] - 1s 3ms/step - loss: 0.0172 - accuracy: 0.9944 - val_loss: 0.1115 - val_accuracy: 0.9810\n",
            "Epoch 139/200\n",
            "375/375 [==============================] - 1s 3ms/step - loss: 0.0185 - accuracy: 0.9942 - val_loss: 0.1067 - val_accuracy: 0.9811\n",
            "Epoch 140/200\n",
            "375/375 [==============================] - 1s 3ms/step - loss: 0.0181 - accuracy: 0.9940 - val_loss: 0.1112 - val_accuracy: 0.9804\n",
            "Epoch 141/200\n",
            "375/375 [==============================] - 1s 3ms/step - loss: 0.0215 - accuracy: 0.9936 - val_loss: 0.1073 - val_accuracy: 0.9793\n",
            "Epoch 142/200\n",
            "375/375 [==============================] - 1s 3ms/step - loss: 0.0195 - accuracy: 0.9939 - val_loss: 0.1155 - val_accuracy: 0.9797\n",
            "Epoch 143/200\n",
            "375/375 [==============================] - 1s 3ms/step - loss: 0.0205 - accuracy: 0.9932 - val_loss: 0.1137 - val_accuracy: 0.9801\n",
            "Epoch 144/200\n",
            "375/375 [==============================] - 1s 3ms/step - loss: 0.0176 - accuracy: 0.9944 - val_loss: 0.1180 - val_accuracy: 0.9808\n",
            "Epoch 145/200\n",
            "375/375 [==============================] - 1s 3ms/step - loss: 0.0181 - accuracy: 0.9945 - val_loss: 0.1132 - val_accuracy: 0.9812\n",
            "Epoch 146/200\n",
            "375/375 [==============================] - 1s 3ms/step - loss: 0.0186 - accuracy: 0.9939 - val_loss: 0.1124 - val_accuracy: 0.9795\n",
            "Epoch 147/200\n",
            "375/375 [==============================] - 1s 3ms/step - loss: 0.0180 - accuracy: 0.9941 - val_loss: 0.1185 - val_accuracy: 0.9795\n",
            "Epoch 148/200\n",
            "375/375 [==============================] - 1s 3ms/step - loss: 0.0187 - accuracy: 0.9939 - val_loss: 0.1113 - val_accuracy: 0.9799\n",
            "Epoch 149/200\n",
            "375/375 [==============================] - 1s 3ms/step - loss: 0.0184 - accuracy: 0.9943 - val_loss: 0.1163 - val_accuracy: 0.9798\n",
            "Epoch 150/200\n",
            "375/375 [==============================] - 1s 3ms/step - loss: 0.0171 - accuracy: 0.9945 - val_loss: 0.1081 - val_accuracy: 0.9812\n",
            "Epoch 151/200\n",
            "375/375 [==============================] - 1s 3ms/step - loss: 0.0177 - accuracy: 0.9944 - val_loss: 0.1168 - val_accuracy: 0.9803\n",
            "Epoch 152/200\n",
            "375/375 [==============================] - 1s 3ms/step - loss: 0.0193 - accuracy: 0.9943 - val_loss: 0.1128 - val_accuracy: 0.9801\n",
            "Epoch 153/200\n",
            "375/375 [==============================] - 1s 3ms/step - loss: 0.0181 - accuracy: 0.9940 - val_loss: 0.1146 - val_accuracy: 0.9793\n",
            "Epoch 154/200\n",
            "375/375 [==============================] - 1s 3ms/step - loss: 0.0192 - accuracy: 0.9935 - val_loss: 0.1222 - val_accuracy: 0.9796\n",
            "Epoch 155/200\n",
            "375/375 [==============================] - 1s 3ms/step - loss: 0.0181 - accuracy: 0.9939 - val_loss: 0.1181 - val_accuracy: 0.9801\n",
            "Epoch 156/200\n",
            "375/375 [==============================] - 1s 3ms/step - loss: 0.0204 - accuracy: 0.9936 - val_loss: 0.1134 - val_accuracy: 0.9801\n",
            "Epoch 157/200\n",
            "375/375 [==============================] - 1s 3ms/step - loss: 0.0192 - accuracy: 0.9941 - val_loss: 0.1139 - val_accuracy: 0.9799\n",
            "Epoch 158/200\n",
            "375/375 [==============================] - 1s 3ms/step - loss: 0.0187 - accuracy: 0.9941 - val_loss: 0.1188 - val_accuracy: 0.9787\n",
            "Epoch 159/200\n",
            "375/375 [==============================] - 1s 3ms/step - loss: 0.0197 - accuracy: 0.9938 - val_loss: 0.1084 - val_accuracy: 0.9814\n",
            "Epoch 160/200\n",
            "375/375 [==============================] - 1s 3ms/step - loss: 0.0167 - accuracy: 0.9947 - val_loss: 0.1124 - val_accuracy: 0.9808\n",
            "Epoch 161/200\n",
            "375/375 [==============================] - 1s 3ms/step - loss: 0.0201 - accuracy: 0.9938 - val_loss: 0.1215 - val_accuracy: 0.9793\n",
            "Epoch 162/200\n",
            "375/375 [==============================] - 1s 3ms/step - loss: 0.0195 - accuracy: 0.9939 - val_loss: 0.1109 - val_accuracy: 0.9801\n",
            "Epoch 163/200\n",
            "375/375 [==============================] - 1s 3ms/step - loss: 0.0185 - accuracy: 0.9939 - val_loss: 0.1156 - val_accuracy: 0.9795\n",
            "Epoch 164/200\n",
            "375/375 [==============================] - 1s 3ms/step - loss: 0.0176 - accuracy: 0.9945 - val_loss: 0.1176 - val_accuracy: 0.9801\n",
            "Epoch 165/200\n",
            "375/375 [==============================] - 1s 3ms/step - loss: 0.0166 - accuracy: 0.9946 - val_loss: 0.1185 - val_accuracy: 0.9808\n",
            "Epoch 166/200\n",
            "375/375 [==============================] - 1s 3ms/step - loss: 0.0188 - accuracy: 0.9942 - val_loss: 0.1176 - val_accuracy: 0.9793\n",
            "Epoch 167/200\n",
            "375/375 [==============================] - 1s 3ms/step - loss: 0.0178 - accuracy: 0.9940 - val_loss: 0.1178 - val_accuracy: 0.9803\n",
            "Epoch 168/200\n",
            "375/375 [==============================] - 1s 3ms/step - loss: 0.0198 - accuracy: 0.9937 - val_loss: 0.1147 - val_accuracy: 0.9797\n",
            "Epoch 169/200\n",
            "375/375 [==============================] - 1s 3ms/step - loss: 0.0193 - accuracy: 0.9940 - val_loss: 0.1154 - val_accuracy: 0.9812\n",
            "Epoch 170/200\n",
            "375/375 [==============================] - 1s 3ms/step - loss: 0.0173 - accuracy: 0.9942 - val_loss: 0.1231 - val_accuracy: 0.9802\n",
            "Epoch 171/200\n",
            "375/375 [==============================] - 1s 3ms/step - loss: 0.0179 - accuracy: 0.9943 - val_loss: 0.1193 - val_accuracy: 0.9797\n",
            "Epoch 172/200\n",
            "375/375 [==============================] - 1s 3ms/step - loss: 0.0151 - accuracy: 0.9947 - val_loss: 0.1165 - val_accuracy: 0.9805\n",
            "Epoch 173/200\n",
            "375/375 [==============================] - 1s 3ms/step - loss: 0.0174 - accuracy: 0.9945 - val_loss: 0.1143 - val_accuracy: 0.9806\n",
            "Epoch 174/200\n",
            "375/375 [==============================] - 1s 3ms/step - loss: 0.0174 - accuracy: 0.9948 - val_loss: 0.1236 - val_accuracy: 0.9807\n",
            "Epoch 175/200\n",
            "375/375 [==============================] - 1s 3ms/step - loss: 0.0190 - accuracy: 0.9940 - val_loss: 0.1235 - val_accuracy: 0.9807\n",
            "Epoch 176/200\n",
            "375/375 [==============================] - 1s 3ms/step - loss: 0.0179 - accuracy: 0.9944 - val_loss: 0.1231 - val_accuracy: 0.9803\n",
            "Epoch 177/200\n",
            "375/375 [==============================] - 1s 3ms/step - loss: 0.0172 - accuracy: 0.9944 - val_loss: 0.1120 - val_accuracy: 0.9802\n",
            "Epoch 178/200\n",
            "375/375 [==============================] - 1s 3ms/step - loss: 0.0165 - accuracy: 0.9948 - val_loss: 0.1211 - val_accuracy: 0.9803\n",
            "Epoch 179/200\n",
            "375/375 [==============================] - 1s 3ms/step - loss: 0.0179 - accuracy: 0.9944 - val_loss: 0.1217 - val_accuracy: 0.9797\n",
            "Epoch 180/200\n",
            "375/375 [==============================] - 1s 3ms/step - loss: 0.0195 - accuracy: 0.9939 - val_loss: 0.1170 - val_accuracy: 0.9799\n",
            "Epoch 181/200\n",
            "375/375 [==============================] - 1s 3ms/step - loss: 0.0185 - accuracy: 0.9944 - val_loss: 0.1326 - val_accuracy: 0.9793\n",
            "Epoch 182/200\n",
            "375/375 [==============================] - 1s 3ms/step - loss: 0.0168 - accuracy: 0.9945 - val_loss: 0.1176 - val_accuracy: 0.9811\n",
            "Epoch 183/200\n",
            "375/375 [==============================] - 1s 3ms/step - loss: 0.0180 - accuracy: 0.9943 - val_loss: 0.1176 - val_accuracy: 0.9799\n",
            "Epoch 184/200\n",
            "375/375 [==============================] - 1s 3ms/step - loss: 0.0139 - accuracy: 0.9955 - val_loss: 0.1289 - val_accuracy: 0.9806\n",
            "Epoch 185/200\n",
            "375/375 [==============================] - 1s 3ms/step - loss: 0.0175 - accuracy: 0.9944 - val_loss: 0.1242 - val_accuracy: 0.9798\n",
            "Epoch 186/200\n",
            "375/375 [==============================] - 1s 3ms/step - loss: 0.0196 - accuracy: 0.9938 - val_loss: 0.1193 - val_accuracy: 0.9804\n",
            "Epoch 187/200\n",
            "375/375 [==============================] - 1s 3ms/step - loss: 0.0176 - accuracy: 0.9945 - val_loss: 0.1186 - val_accuracy: 0.9790\n",
            "Epoch 188/200\n",
            "375/375 [==============================] - 1s 3ms/step - loss: 0.0138 - accuracy: 0.9953 - val_loss: 0.1281 - val_accuracy: 0.9803\n",
            "Epoch 189/200\n",
            "375/375 [==============================] - 1s 3ms/step - loss: 0.0151 - accuracy: 0.9950 - val_loss: 0.1284 - val_accuracy: 0.9800\n",
            "Epoch 190/200\n",
            "375/375 [==============================] - 1s 3ms/step - loss: 0.0170 - accuracy: 0.9946 - val_loss: 0.1278 - val_accuracy: 0.9790\n",
            "Epoch 191/200\n",
            "375/375 [==============================] - 1s 3ms/step - loss: 0.0175 - accuracy: 0.9943 - val_loss: 0.1235 - val_accuracy: 0.9795\n",
            "Epoch 192/200\n",
            "375/375 [==============================] - 1s 3ms/step - loss: 0.0167 - accuracy: 0.9949 - val_loss: 0.1172 - val_accuracy: 0.9800\n",
            "Epoch 193/200\n",
            "375/375 [==============================] - 1s 3ms/step - loss: 0.0179 - accuracy: 0.9944 - val_loss: 0.1150 - val_accuracy: 0.9792\n",
            "Epoch 194/200\n",
            "375/375 [==============================] - 1s 3ms/step - loss: 0.0158 - accuracy: 0.9948 - val_loss: 0.1099 - val_accuracy: 0.9807\n",
            "Epoch 195/200\n",
            "375/375 [==============================] - 1s 3ms/step - loss: 0.0147 - accuracy: 0.9952 - val_loss: 0.1214 - val_accuracy: 0.9797\n",
            "Epoch 196/200\n",
            "375/375 [==============================] - 1s 3ms/step - loss: 0.0140 - accuracy: 0.9954 - val_loss: 0.1178 - val_accuracy: 0.9801\n",
            "Epoch 197/200\n",
            "375/375 [==============================] - 1s 3ms/step - loss: 0.0146 - accuracy: 0.9954 - val_loss: 0.1183 - val_accuracy: 0.9805\n",
            "Epoch 198/200\n",
            "375/375 [==============================] - 1s 3ms/step - loss: 0.0158 - accuracy: 0.9946 - val_loss: 0.1355 - val_accuracy: 0.9792\n",
            "Epoch 199/200\n",
            "375/375 [==============================] - 1s 3ms/step - loss: 0.0152 - accuracy: 0.9950 - val_loss: 0.1243 - val_accuracy: 0.9805\n",
            "Epoch 200/200\n",
            "375/375 [==============================] - 1s 3ms/step - loss: 0.0169 - accuracy: 0.9946 - val_loss: 0.1283 - val_accuracy: 0.9811\n"
          ],
          "name": "stdout"
        },
        {
          "output_type": "execute_result",
          "data": {
            "text/plain": [
              "<tensorflow.python.keras.callbacks.History at 0x7feae0385278>"
            ]
          },
          "metadata": {
            "tags": []
          },
          "execution_count": 12
        }
      ]
    },
    {
      "cell_type": "code",
      "metadata": {
        "id": "ta70kS1yXMza",
        "colab_type": "code",
        "outputId": "2e1143c2-4096-4827-f75f-8630c646cc62",
        "colab": {
          "base_uri": "https://localhost:8080/",
          "height": 50
        }
      },
      "source": [
        "test_loss, test_acc = model.evaluate(X_test, Y_test)\n",
        "print('Test accuracy:', test_acc)"
      ],
      "execution_count": 0,
      "outputs": [
        {
          "output_type": "stream",
          "text": [
            "313/313 [==============================] - 1s 2ms/step - loss: 0.1370 - accuracy: 0.9796\n",
            "Test accuracy: 0.9796000123023987\n"
          ],
          "name": "stdout"
        }
      ]
    },
    {
      "cell_type": "code",
      "metadata": {
        "id": "M1cK2xrBaSUA",
        "colab_type": "code",
        "outputId": "c328d1c0-439b-4250-de51-9ad0202eebaa",
        "colab": {
          "base_uri": "https://localhost:8080/",
          "height": 563
        }
      },
      "source": [
        "tf.keras.utils.plot_model(model)"
      ],
      "execution_count": 0,
      "outputs": [
        {
          "output_type": "execute_result",
          "data": {
            "image/png": "[encoded data removed]",
            "text/plain": [
              "<IPython.core.display.Image object>"
            ]
          },
          "metadata": {
            "tags": []
          },
          "execution_count": 14
        }
      ]
    },
    {
      "cell_type": "code",
      "metadata": {
        "id": "T2OwrPbquEw-",
        "colab_type": "code",
        "colab": {}
      },
      "source": [
        "model.save_weights('./my_modeldropadam')"
      ],
      "execution_count": 0,
      "outputs": []
    },
    {
      "cell_type": "code",
      "metadata": {
        "id": "G8GRYBKqwRqk",
        "colab_type": "code",
        "colab": {}
      },
      "source": [
        "\t\n",
        "import os"
      ],
      "execution_count": 0,
      "outputs": []
    },
    {
      "cell_type": "code",
      "metadata": {
        "id": "NH9ZcDs0wtrv",
        "colab_type": "code",
        "outputId": "536c387a-c1d2-436e-a6e5-b4d671b72f2b",
        "colab": {
          "base_uri": "https://localhost:8080/",
          "height": 33
        }
      },
      "source": [
        "os.getcwd()\n"
      ],
      "execution_count": 0,
      "outputs": [
        {
          "output_type": "execute_result",
          "data": {
            "text/plain": [
              "'/content'"
            ]
          },
          "metadata": {
            "tags": []
          },
          "execution_count": 17
        }
      ]
    },
    {
      "cell_type": "code",
      "metadata": {
        "id": "SqGetsFew6l-",
        "colab_type": "code",
        "colab": {}
      },
      "source": [
        "model.save_weights('my_modeldropadam.h5', save_format='h5')"
      ],
      "execution_count": 0,
      "outputs": []
    },
    {
      "cell_type": "code",
      "metadata": {
        "id": "ngmEssOkyguz",
        "colab_type": "code",
        "colab": {}
      },
      "source": [
        "# model.save_weights('my_model.h5', save_format='h5')\n",
        "# model.load_weights(file_path)"
      ],
      "execution_count": 0,
      "outputs": []
    },
    {
      "cell_type": "code",
      "metadata": {
        "id": "cGfzncb2yp3h",
        "colab_type": "code",
        "colab": {}
      },
      "source": [
        "#json_string = model.to_json()  # save\n",
        "#model = tf.keras.models.model_from_json(json_string) # restore\n",
        "#yaml_string = model.to_yaml() # save\n",
        "#model = tf.keras.models.model_from_yaml(yaml_string) # restore"
      ],
      "execution_count": 0,
      "outputs": []
    },
    {
      "cell_type": "code",
      "metadata": {
        "id": "CNzp8sOJy1Xu",
        "colab_type": "code",
        "colab": {}
      },
      "source": [
        "json_string = model.to_json()"
      ],
      "execution_count": 0,
      "outputs": []
    },
    {
      "cell_type": "code",
      "metadata": {
        "id": "zLWZb7F0y6tD",
        "colab_type": "code",
        "outputId": "15a28317-7f89-4d9f-9322-eb60813077f3",
        "colab": {
          "base_uri": "https://localhost:8080/",
          "height": 53
        }
      },
      "source": [
        "print(json_string)"
      ],
      "execution_count": 0,
      "outputs": [
        {
          "output_type": "stream",
          "text": [
            "{\"class_name\": \"Sequential\", \"config\": {\"name\": \"sequential\", \"layers\": [{\"class_name\": \"Dense\", \"config\": {\"name\": \"dense_layer\", \"trainable\": true, \"batch_input_shape\": [null, 784], \"dtype\": \"float32\", \"units\": 128, \"activation\": \"relu\", \"use_bias\": true, \"kernel_initializer\": {\"class_name\": \"GlorotUniform\", \"config\": {\"seed\": null}}, \"bias_initializer\": {\"class_name\": \"Zeros\", \"config\": {}}, \"kernel_regularizer\": null, \"bias_regularizer\": null, \"activity_regularizer\": null, \"kernel_constraint\": null, \"bias_constraint\": null}}, {\"class_name\": \"Dropout\", \"config\": {\"name\": \"dropout\", \"trainable\": true, \"dtype\": \"float32\", \"rate\": 0.3, \"noise_shape\": null, \"seed\": null}}, {\"class_name\": \"Dense\", \"config\": {\"name\": \"dense_layer_2\", \"trainable\": true, \"dtype\": \"float32\", \"units\": 128, \"activation\": \"relu\", \"use_bias\": true, \"kernel_initializer\": {\"class_name\": \"GlorotUniform\", \"config\": {\"seed\": null}}, \"bias_initializer\": {\"class_name\": \"Zeros\", \"config\": {}}, \"kernel_regularizer\": null, \"bias_regularizer\": null, \"activity_regularizer\": null, \"kernel_constraint\": null, \"bias_constraint\": null}}, {\"class_name\": \"Dropout\", \"config\": {\"name\": \"dropout_1\", \"trainable\": true, \"dtype\": \"float32\", \"rate\": 0.3, \"noise_shape\": null, \"seed\": null}}, {\"class_name\": \"Dense\", \"config\": {\"name\": \"dense_layer_3\", \"trainable\": true, \"dtype\": \"float32\", \"units\": 10, \"activation\": \"softmax\", \"use_bias\": true, \"kernel_initializer\": {\"class_name\": \"GlorotUniform\", \"config\": {\"seed\": null}}, \"bias_initializer\": {\"class_name\": \"Zeros\", \"config\": {}}, \"kernel_regularizer\": null, \"bias_regularizer\": null, \"activity_regularizer\": null, \"kernel_constraint\": null, \"bias_constraint\": null}}], \"build_input_shape\": [null, 784]}, \"keras_version\": \"2.3.0-tf\", \"backend\": \"tensorflow\"}\n"
          ],
          "name": "stdout"
        }
      ]
    }
  ]
}