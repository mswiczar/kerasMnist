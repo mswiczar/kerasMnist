{
  "nbformat": 4,
  "nbformat_minor": 0,
  "metadata": {
    "colab": {
      "name": "TFMinstCNN.ipynb",
      "provenance": []
    },
    "kernelspec": {
      "name": "python3",
      "display_name": "Python 3"
    },
    "accelerator": "GPU"
  },
  "cells": [
    {
      "cell_type": "code",
      "metadata": {
        "id": "Q8itS9A8Fgoq",
        "colab_type": "code",
        "colab": {
          "base_uri": "https://localhost:8080/",
          "height": 1000
        },
        "outputId": "810c9bc0-60aa-4692-e19f-53fc6969c755"
      },
      "source": [
        "pip install tensorflow-gpu"
      ],
      "execution_count": 1,
      "outputs": [
        {
          "output_type": "stream",
          "text": [
            "Collecting tensorflow-gpu\n",
            "\u001b[?25l  Downloading https://files.pythonhosted.org/packages/0a/93/c7bca39b23aae45cd2e85ad3871c81eccc63b9c5276e926511e2e5b0879d/tensorflow_gpu-2.1.0-cp36-cp36m-manylinux2010_x86_64.whl (421.8MB)\n",
            "\u001b[K     |████████████████████████████████| 421.8MB 39kB/s \n",
            "\u001b[?25hRequirement already satisfied: opt-einsum>=2.3.2 in /usr/local/lib/python3.6/dist-packages (from tensorflow-gpu) (3.2.0)\n",
            "Requirement already satisfied: wheel>=0.26; python_version >= \"3\" in /usr/local/lib/python3.6/dist-packages (from tensorflow-gpu) (0.34.2)\n",
            "Requirement already satisfied: keras-applications>=1.0.8 in /usr/local/lib/python3.6/dist-packages (from tensorflow-gpu) (1.0.8)\n",
            "Collecting tensorflow-estimator<2.2.0,>=2.1.0rc0\n",
            "\u001b[?25l  Downloading https://files.pythonhosted.org/packages/18/90/b77c328a1304437ab1310b463e533fa7689f4bfc41549593056d812fab8e/tensorflow_estimator-2.1.0-py2.py3-none-any.whl (448kB)\n",
            "\u001b[K     |████████████████████████████████| 450kB 37.0MB/s \n",
            "\u001b[?25hRequirement already satisfied: absl-py>=0.7.0 in /usr/local/lib/python3.6/dist-packages (from tensorflow-gpu) (0.9.0)\n",
            "Collecting tensorboard<2.2.0,>=2.1.0\n",
            "\u001b[?25l  Downloading https://files.pythonhosted.org/packages/d9/41/bbf49b61370e4f4d245d4c6051dfb6db80cec672605c91b1652ac8cc3d38/tensorboard-2.1.1-py3-none-any.whl (3.8MB)\n",
            "\u001b[K     |████████████████████████████████| 3.9MB 60.3MB/s \n",
            "\u001b[?25hRequirement already satisfied: termcolor>=1.1.0 in /usr/local/lib/python3.6/dist-packages (from tensorflow-gpu) (1.1.0)\n",
            "Requirement already satisfied: six>=1.12.0 in /usr/local/lib/python3.6/dist-packages (from tensorflow-gpu) (1.12.0)\n",
            "Requirement already satisfied: keras-preprocessing>=1.1.0 in /usr/local/lib/python3.6/dist-packages (from tensorflow-gpu) (1.1.0)\n",
            "Requirement already satisfied: grpcio>=1.8.6 in /usr/local/lib/python3.6/dist-packages (from tensorflow-gpu) (1.27.2)\n",
            "Requirement already satisfied: scipy==1.4.1; python_version >= \"3\" in /usr/local/lib/python3.6/dist-packages (from tensorflow-gpu) (1.4.1)\n",
            "Requirement already satisfied: google-pasta>=0.1.6 in /usr/local/lib/python3.6/dist-packages (from tensorflow-gpu) (0.2.0)\n",
            "Requirement already satisfied: astor>=0.6.0 in /usr/local/lib/python3.6/dist-packages (from tensorflow-gpu) (0.8.1)\n",
            "Requirement already satisfied: wrapt>=1.11.1 in /usr/local/lib/python3.6/dist-packages (from tensorflow-gpu) (1.12.1)\n",
            "Collecting gast==0.2.2\n",
            "  Downloading https://files.pythonhosted.org/packages/4e/35/11749bf99b2d4e3cceb4d55ca22590b0d7c2c62b9de38ac4a4a7f4687421/gast-0.2.2.tar.gz\n",
            "Requirement already satisfied: numpy<2.0,>=1.16.0 in /usr/local/lib/python3.6/dist-packages (from tensorflow-gpu) (1.18.2)\n",
            "Requirement already satisfied: protobuf>=3.8.0 in /usr/local/lib/python3.6/dist-packages (from tensorflow-gpu) (3.10.0)\n",
            "Requirement already satisfied: h5py in /usr/local/lib/python3.6/dist-packages (from keras-applications>=1.0.8->tensorflow-gpu) (2.10.0)\n",
            "Requirement already satisfied: werkzeug>=0.11.15 in /usr/local/lib/python3.6/dist-packages (from tensorboard<2.2.0,>=2.1.0->tensorflow-gpu) (1.0.1)\n",
            "Requirement already satisfied: requests<3,>=2.21.0 in /usr/local/lib/python3.6/dist-packages (from tensorboard<2.2.0,>=2.1.0->tensorflow-gpu) (2.21.0)\n",
            "Requirement already satisfied: google-auth<2,>=1.6.3 in /usr/local/lib/python3.6/dist-packages (from tensorboard<2.2.0,>=2.1.0->tensorflow-gpu) (1.7.2)\n",
            "Requirement already satisfied: google-auth-oauthlib<0.5,>=0.4.1 in /usr/local/lib/python3.6/dist-packages (from tensorboard<2.2.0,>=2.1.0->tensorflow-gpu) (0.4.1)\n",
            "Requirement already satisfied: setuptools>=41.0.0 in /usr/local/lib/python3.6/dist-packages (from tensorboard<2.2.0,>=2.1.0->tensorflow-gpu) (46.0.0)\n",
            "Requirement already satisfied: markdown>=2.6.8 in /usr/local/lib/python3.6/dist-packages (from tensorboard<2.2.0,>=2.1.0->tensorflow-gpu) (3.2.1)\n",
            "Requirement already satisfied: certifi>=2017.4.17 in /usr/local/lib/python3.6/dist-packages (from requests<3,>=2.21.0->tensorboard<2.2.0,>=2.1.0->tensorflow-gpu) (2019.11.28)\n",
            "Requirement already satisfied: idna<2.9,>=2.5 in /usr/local/lib/python3.6/dist-packages (from requests<3,>=2.21.0->tensorboard<2.2.0,>=2.1.0->tensorflow-gpu) (2.8)\n",
            "Requirement already satisfied: chardet<3.1.0,>=3.0.2 in /usr/local/lib/python3.6/dist-packages (from requests<3,>=2.21.0->tensorboard<2.2.0,>=2.1.0->tensorflow-gpu) (3.0.4)\n",
            "Requirement already satisfied: urllib3<1.25,>=1.21.1 in /usr/local/lib/python3.6/dist-packages (from requests<3,>=2.21.0->tensorboard<2.2.0,>=2.1.0->tensorflow-gpu) (1.24.3)\n",
            "Requirement already satisfied: rsa<4.1,>=3.1.4 in /usr/local/lib/python3.6/dist-packages (from google-auth<2,>=1.6.3->tensorboard<2.2.0,>=2.1.0->tensorflow-gpu) (4.0)\n",
            "Requirement already satisfied: pyasn1-modules>=0.2.1 in /usr/local/lib/python3.6/dist-packages (from google-auth<2,>=1.6.3->tensorboard<2.2.0,>=2.1.0->tensorflow-gpu) (0.2.8)\n",
            "Requirement already satisfied: cachetools<3.2,>=2.0.0 in /usr/local/lib/python3.6/dist-packages (from google-auth<2,>=1.6.3->tensorboard<2.2.0,>=2.1.0->tensorflow-gpu) (3.1.1)\n",
            "Requirement already satisfied: requests-oauthlib>=0.7.0 in /usr/local/lib/python3.6/dist-packages (from google-auth-oauthlib<0.5,>=0.4.1->tensorboard<2.2.0,>=2.1.0->tensorflow-gpu) (1.3.0)\n",
            "Requirement already satisfied: pyasn1>=0.1.3 in /usr/local/lib/python3.6/dist-packages (from rsa<4.1,>=3.1.4->google-auth<2,>=1.6.3->tensorboard<2.2.0,>=2.1.0->tensorflow-gpu) (0.4.8)\n",
            "Requirement already satisfied: oauthlib>=3.0.0 in /usr/local/lib/python3.6/dist-packages (from requests-oauthlib>=0.7.0->google-auth-oauthlib<0.5,>=0.4.1->tensorboard<2.2.0,>=2.1.0->tensorflow-gpu) (3.1.0)\n",
            "Building wheels for collected packages: gast\n",
            "  Building wheel for gast (setup.py) ... \u001b[?25l\u001b[?25hdone\n",
            "  Created wheel for gast: filename=gast-0.2.2-cp36-none-any.whl size=7540 sha256=60685c6783a26ae8b5067a9b5a0b5425061ed725b6b62e136784899e320f7a26\n",
            "  Stored in directory: /root/.cache/pip/wheels/5c/2e/7e/a1d4d4fcebe6c381f378ce7743a3ced3699feb89bcfbdadadd\n",
            "Successfully built gast\n",
            "\u001b[31mERROR: tensorflow 2.2.0rc2 has requirement gast==0.3.3, but you'll have gast 0.2.2 which is incompatible.\u001b[0m\n",
            "\u001b[31mERROR: tensorflow 2.2.0rc2 has requirement tensorboard<2.3.0,>=2.2.0, but you'll have tensorboard 2.1.1 which is incompatible.\u001b[0m\n",
            "\u001b[31mERROR: tensorflow 2.2.0rc2 has requirement tensorflow-estimator<2.3.0,>=2.2.0rc0, but you'll have tensorflow-estimator 2.1.0 which is incompatible.\u001b[0m\n",
            "Installing collected packages: tensorflow-estimator, tensorboard, gast, tensorflow-gpu\n",
            "  Found existing installation: tensorflow-estimator 2.2.0rc0\n",
            "    Uninstalling tensorflow-estimator-2.2.0rc0:\n",
            "      Successfully uninstalled tensorflow-estimator-2.2.0rc0\n",
            "  Found existing installation: tensorboard 2.2.0\n",
            "    Uninstalling tensorboard-2.2.0:\n",
            "      Successfully uninstalled tensorboard-2.2.0\n",
            "  Found existing installation: gast 0.3.3\n",
            "    Uninstalling gast-0.3.3:\n",
            "      Successfully uninstalled gast-0.3.3\n",
            "Successfully installed gast-0.2.2 tensorboard-2.1.1 tensorflow-estimator-2.1.0 tensorflow-gpu-2.1.0\n"
          ],
          "name": "stdout"
        }
      ]
    },
    {
      "cell_type": "code",
      "metadata": {
        "id": "a0JxIWwoGDyu",
        "colab_type": "code",
        "colab": {}
      },
      "source": [
        "import tensorflow as tf\n",
        "from tensorflow.keras import datasets, layers, models, optimizers"
      ],
      "execution_count": 0,
      "outputs": []
    },
    {
      "cell_type": "code",
      "metadata": {
        "id": "phiPSenbGJiY",
        "colab_type": "code",
        "colab": {}
      },
      "source": [
        "# network and training\n",
        "EPOCHS = 60\n",
        "BATCH_SIZE = 256\n",
        "VERBOSE = 1\n",
        "OPTIMIZER = tf.keras.optimizers.Adam()\n",
        "VALIDATION_SPLIT=0.35"
      ],
      "execution_count": 0,
      "outputs": []
    },
    {
      "cell_type": "code",
      "metadata": {
        "id": "7S7kvGUgGK-8",
        "colab_type": "code",
        "colab": {}
      },
      "source": [
        "IMG_ROWS, IMG_COLS = 28, 28 # input image dimensions\n",
        "INPUT_SHAPE = (IMG_ROWS, IMG_COLS, 1)\n",
        "NB_CLASSES = 10  # number of outputs = number of digits"
      ],
      "execution_count": 0,
      "outputs": []
    },
    {
      "cell_type": "code",
      "metadata": {
        "id": "hoMzJtWqGZMZ",
        "colab_type": "code",
        "colab": {}
      },
      "source": [
        "def build(input_shape, classes):\n",
        "  model = models.Sequential()\n",
        "  # CONV => RELU => POOL\n",
        "  model.add(layers.Convolution2D(20, (5, 5), activation='relu', input_shape=input_shape))\n",
        "  model.add(layers.MaxPooling2D(pool_size=(2, 2), strides=(2, 2)))\n",
        "  model.add(layers.Convolution2D(50, (5, 5), activation='relu'))\n",
        "  model.add(layers.MaxPooling2D(pool_size=(2, 2), strides=(2, 2)))\n",
        "  # Flatten => RELU layers\n",
        "  model.add(layers.Flatten())\n",
        "  model.add(layers.Dense(500, activation='relu'))\n",
        "  # a softmax classifier\n",
        "  model.add(layers.Dense(classes, activation=\"softmax\"))\n",
        "  return model"
      ],
      "execution_count": 0,
      "outputs": []
    },
    {
      "cell_type": "code",
      "metadata": {
        "id": "viSJihVZHONG",
        "colab_type": "code",
        "colab": {
          "base_uri": "https://localhost:8080/",
          "height": 51
        },
        "outputId": "70ff884d-64a4-43ae-ec16-393d1035f03c"
      },
      "source": [
        "(X_train, y_train), (X_test, y_test) = datasets.mnist.load_data()\n"
      ],
      "execution_count": 8,
      "outputs": [
        {
          "output_type": "stream",
          "text": [
            "Downloading data from https://storage.googleapis.com/tensorflow/tf-keras-datasets/mnist.npz\n",
            "11493376/11490434 [==============================] - 0s 0us/step\n"
          ],
          "name": "stdout"
        }
      ]
    },
    {
      "cell_type": "code",
      "metadata": {
        "id": "b5gckwX6HRnw",
        "colab_type": "code",
        "colab": {}
      },
      "source": [
        "X_train = X_train.reshape((60000, 28, 28, 1))\n",
        "X_test = X_test.reshape((10000, 28, 28, 1))"
      ],
      "execution_count": 0,
      "outputs": []
    },
    {
      "cell_type": "code",
      "metadata": {
        "id": "81OTQ4j_HWH9",
        "colab_type": "code",
        "colab": {}
      },
      "source": [
        "X_train, X_test = X_train / 255.0, X_test / 255.0"
      ],
      "execution_count": 0,
      "outputs": []
    },
    {
      "cell_type": "code",
      "metadata": {
        "id": "Ej0R7kQvHYd0",
        "colab_type": "code",
        "colab": {}
      },
      "source": [
        "X_train = X_train.astype('float32')\n",
        "X_test = X_test.astype('float32')"
      ],
      "execution_count": 0,
      "outputs": []
    },
    {
      "cell_type": "code",
      "metadata": {
        "id": "Z7KAxMbJHbuL",
        "colab_type": "code",
        "colab": {}
      },
      "source": [
        "y_train = tf.keras.utils.to_categorical(y_train, NB_CLASSES)\n",
        "y_test = tf.keras.utils.to_categorical(y_test, NB_CLASSES)"
      ],
      "execution_count": 0,
      "outputs": []
    },
    {
      "cell_type": "code",
      "metadata": {
        "id": "BPfv4WsmHfNK",
        "colab_type": "code",
        "colab": {}
      },
      "source": [
        "model = build(input_shape=INPUT_SHAPE, classes=NB_CLASSES)"
      ],
      "execution_count": 0,
      "outputs": []
    },
    {
      "cell_type": "code",
      "metadata": {
        "id": "FGNgbY6vHjOF",
        "colab_type": "code",
        "colab": {}
      },
      "source": [
        "model.compile(loss=\"categorical_crossentropy\", optimizer=OPTIMIZER,metrics=[\"accuracy\"])"
      ],
      "execution_count": 0,
      "outputs": []
    },
    {
      "cell_type": "code",
      "metadata": {
        "id": "Skm40v4xHnSa",
        "colab_type": "code",
        "colab": {
          "base_uri": "https://localhost:8080/",
          "height": 391
        },
        "outputId": "e7533ee3-3db2-49ca-ccf4-ce247e6fe34b"
      },
      "source": [
        "model.summary()"
      ],
      "execution_count": 15,
      "outputs": [
        {
          "output_type": "stream",
          "text": [
            "Model: \"sequential\"\n",
            "_________________________________________________________________\n",
            "Layer (type)                 Output Shape              Param #   \n",
            "=================================================================\n",
            "conv2d (Conv2D)              (None, 24, 24, 20)        520       \n",
            "_________________________________________________________________\n",
            "max_pooling2d (MaxPooling2D) (None, 12, 12, 20)        0         \n",
            "_________________________________________________________________\n",
            "conv2d_1 (Conv2D)            (None, 8, 8, 50)          25050     \n",
            "_________________________________________________________________\n",
            "max_pooling2d_1 (MaxPooling2 (None, 4, 4, 50)          0         \n",
            "_________________________________________________________________\n",
            "flatten (Flatten)            (None, 800)               0         \n",
            "_________________________________________________________________\n",
            "dense (Dense)                (None, 500)               400500    \n",
            "_________________________________________________________________\n",
            "dense_1 (Dense)              (None, 10)                5010      \n",
            "=================================================================\n",
            "Total params: 431,080\n",
            "Trainable params: 431,080\n",
            "Non-trainable params: 0\n",
            "_________________________________________________________________\n"
          ],
          "name": "stdout"
        }
      ]
    },
    {
      "cell_type": "code",
      "metadata": {
        "id": "bKihBSBhHuwv",
        "colab_type": "code",
        "colab": {
          "base_uri": "https://localhost:8080/",
          "height": 758
        },
        "outputId": "707f60ef-8907-4072-9b38-746b9ebc753c"
      },
      "source": [
        "tf.keras.utils.plot_model(model)"
      ],
      "execution_count": 16,
      "outputs": [
        {
          "output_type": "execute_result",
          "data": {
            "image/png": "[encoded data removed]",
            "text/plain": [
              "<IPython.core.display.Image object>"
            ]
          },
          "metadata": {
            "tags": []
          },
          "execution_count": 16
        }
      ]
    },
    {
      "cell_type": "code",
      "metadata": {
        "id": "9eA5LLZvHxJ1",
        "colab_type": "code",
        "colab": {}
      },
      "source": [
        "callbacks = [\n",
        "     # Write TensorBoard logs to './logs' directory\n",
        "     tf.keras.callbacks.TensorBoard(log_dir='./logs')\n",
        "     ]"
      ],
      "execution_count": 0,
      "outputs": []
    },
    {
      "cell_type": "code",
      "metadata": {
        "id": "gggb3n6MH5cE",
        "colab_type": "code",
        "colab": {
          "base_uri": "https://localhost:8080/",
          "height": 1000
        },
        "outputId": "4ff8e157-40f8-45de-a69f-6e919851a8d8"
      },
      "source": [
        "history = model.fit(X_train, y_train,\n",
        "                     batch_size=BATCH_SIZE, epochs=EPOCHS,\n",
        "                     verbose=VERBOSE, validation_split=VALIDATION_SPLIT,\n",
        "                     callbacks=callbacks)"
      ],
      "execution_count": 35,
      "outputs": [
        {
          "output_type": "stream",
          "text": [
            "Train on 39000 samples, validate on 21000 samples\n",
            "Epoch 1/60\n",
            "39000/39000 [==============================] - 2s 42us/sample - loss: 0.0241 - accuracy: 0.9933 - val_loss: 0.0440 - val_accuracy: 0.9882\n",
            "Epoch 2/60\n",
            "39000/39000 [==============================] - 2s 39us/sample - loss: 0.0080 - accuracy: 0.9975 - val_loss: 0.0384 - val_accuracy: 0.9894\n",
            "Epoch 3/60\n",
            "39000/39000 [==============================] - 2s 39us/sample - loss: 0.0046 - accuracy: 0.9986 - val_loss: 0.0467 - val_accuracy: 0.9889\n",
            "Epoch 4/60\n",
            "39000/39000 [==============================] - 2s 39us/sample - loss: 0.0024 - accuracy: 0.9994 - val_loss: 0.0446 - val_accuracy: 0.9906\n",
            "Epoch 5/60\n",
            "39000/39000 [==============================] - 2s 39us/sample - loss: 0.0013 - accuracy: 0.9997 - val_loss: 0.0444 - val_accuracy: 0.9904\n",
            "Epoch 6/60\n",
            "39000/39000 [==============================] - 2s 40us/sample - loss: 6.4812e-04 - accuracy: 0.9998 - val_loss: 0.0483 - val_accuracy: 0.9905\n",
            "Epoch 7/60\n",
            "39000/39000 [==============================] - 2s 39us/sample - loss: 5.7135e-04 - accuracy: 0.9999 - val_loss: 0.0474 - val_accuracy: 0.9905\n",
            "Epoch 8/60\n",
            "39000/39000 [==============================] - 2s 38us/sample - loss: 3.0669e-04 - accuracy: 0.9999 - val_loss: 0.0467 - val_accuracy: 0.9908\n",
            "Epoch 9/60\n",
            "39000/39000 [==============================] - 2s 38us/sample - loss: 2.6406e-04 - accuracy: 0.9999 - val_loss: 0.0502 - val_accuracy: 0.9907\n",
            "Epoch 10/60\n",
            "39000/39000 [==============================] - 2s 39us/sample - loss: 1.4187e-04 - accuracy: 1.0000 - val_loss: 0.0507 - val_accuracy: 0.9910\n",
            "Epoch 11/60\n",
            "39000/39000 [==============================] - 1s 38us/sample - loss: 1.5298e-04 - accuracy: 1.0000 - val_loss: 0.0513 - val_accuracy: 0.9911\n",
            "Epoch 12/60\n",
            "39000/39000 [==============================] - 2s 39us/sample - loss: 7.9899e-04 - accuracy: 0.9998 - val_loss: 0.0629 - val_accuracy: 0.9888\n",
            "Epoch 13/60\n",
            "39000/39000 [==============================] - 2s 39us/sample - loss: 9.8147e-04 - accuracy: 0.9997 - val_loss: 0.0506 - val_accuracy: 0.9903\n",
            "Epoch 14/60\n",
            "39000/39000 [==============================] - 1s 38us/sample - loss: 0.0050 - accuracy: 0.9983 - val_loss: 0.0597 - val_accuracy: 0.9885\n",
            "Epoch 15/60\n",
            "39000/39000 [==============================] - 2s 39us/sample - loss: 0.0089 - accuracy: 0.9971 - val_loss: 0.0608 - val_accuracy: 0.9864\n",
            "Epoch 16/60\n",
            "39000/39000 [==============================] - 1s 38us/sample - loss: 0.0040 - accuracy: 0.9987 - val_loss: 0.0483 - val_accuracy: 0.9890\n",
            "Epoch 17/60\n",
            "39000/39000 [==============================] - 2s 39us/sample - loss: 0.0021 - accuracy: 0.9993 - val_loss: 0.0517 - val_accuracy: 0.9895\n",
            "Epoch 18/60\n",
            "39000/39000 [==============================] - 2s 39us/sample - loss: 8.5181e-04 - accuracy: 0.9998 - val_loss: 0.0523 - val_accuracy: 0.9905\n",
            "Epoch 19/60\n",
            "39000/39000 [==============================] - 1s 38us/sample - loss: 2.8156e-04 - accuracy: 0.9999 - val_loss: 0.0522 - val_accuracy: 0.9913\n",
            "Epoch 20/60\n",
            "39000/39000 [==============================] - 2s 40us/sample - loss: 6.7419e-05 - accuracy: 1.0000 - val_loss: 0.0532 - val_accuracy: 0.9909\n",
            "Epoch 21/60\n",
            "39000/39000 [==============================] - 2s 41us/sample - loss: 3.0779e-05 - accuracy: 1.0000 - val_loss: 0.0539 - val_accuracy: 0.9910\n",
            "Epoch 22/60\n",
            "39000/39000 [==============================] - 2s 39us/sample - loss: 2.3288e-05 - accuracy: 1.0000 - val_loss: 0.0546 - val_accuracy: 0.9910\n",
            "Epoch 23/60\n",
            "39000/39000 [==============================] - 2s 39us/sample - loss: 1.9266e-05 - accuracy: 1.0000 - val_loss: 0.0553 - val_accuracy: 0.9909\n",
            "Epoch 24/60\n",
            "39000/39000 [==============================] - 2s 40us/sample - loss: 1.6193e-05 - accuracy: 1.0000 - val_loss: 0.0559 - val_accuracy: 0.9909\n",
            "Epoch 25/60\n",
            "39000/39000 [==============================] - 2s 39us/sample - loss: 1.3855e-05 - accuracy: 1.0000 - val_loss: 0.0565 - val_accuracy: 0.9909\n",
            "Epoch 26/60\n",
            "39000/39000 [==============================] - 2s 40us/sample - loss: 1.2035e-05 - accuracy: 1.0000 - val_loss: 0.0570 - val_accuracy: 0.9908\n",
            "Epoch 27/60\n",
            "39000/39000 [==============================] - 2s 39us/sample - loss: 1.0573e-05 - accuracy: 1.0000 - val_loss: 0.0576 - val_accuracy: 0.9908\n",
            "Epoch 28/60\n",
            "39000/39000 [==============================] - 2s 39us/sample - loss: 9.3416e-06 - accuracy: 1.0000 - val_loss: 0.0581 - val_accuracy: 0.9908\n",
            "Epoch 29/60\n",
            "39000/39000 [==============================] - 1s 38us/sample - loss: 8.3360e-06 - accuracy: 1.0000 - val_loss: 0.0586 - val_accuracy: 0.9909\n",
            "Epoch 30/60\n",
            "39000/39000 [==============================] - 2s 39us/sample - loss: 7.4846e-06 - accuracy: 1.0000 - val_loss: 0.0591 - val_accuracy: 0.9908\n",
            "Epoch 31/60\n",
            "39000/39000 [==============================] - 1s 38us/sample - loss: 6.6171e-06 - accuracy: 1.0000 - val_loss: 0.0595 - val_accuracy: 0.9909\n",
            "Epoch 32/60\n",
            "39000/39000 [==============================] - 2s 39us/sample - loss: 5.9625e-06 - accuracy: 1.0000 - val_loss: 0.0600 - val_accuracy: 0.9909\n",
            "Epoch 33/60\n",
            "39000/39000 [==============================] - 2s 39us/sample - loss: 5.4155e-06 - accuracy: 1.0000 - val_loss: 0.0605 - val_accuracy: 0.9909\n",
            "Epoch 34/60\n",
            "39000/39000 [==============================] - 2s 40us/sample - loss: 4.9165e-06 - accuracy: 1.0000 - val_loss: 0.0609 - val_accuracy: 0.9909\n",
            "Epoch 35/60\n",
            "39000/39000 [==============================] - 2s 41us/sample - loss: 4.4679e-06 - accuracy: 1.0000 - val_loss: 0.0614 - val_accuracy: 0.9910\n",
            "Epoch 36/60\n",
            "39000/39000 [==============================] - 2s 40us/sample - loss: 4.0635e-06 - accuracy: 1.0000 - val_loss: 0.0618 - val_accuracy: 0.9909\n",
            "Epoch 37/60\n",
            "39000/39000 [==============================] - 2s 39us/sample - loss: 3.7213e-06 - accuracy: 1.0000 - val_loss: 0.0622 - val_accuracy: 0.9908\n",
            "Epoch 38/60\n",
            "39000/39000 [==============================] - 2s 39us/sample - loss: 3.3864e-06 - accuracy: 1.0000 - val_loss: 0.0627 - val_accuracy: 0.9909\n",
            "Epoch 39/60\n",
            "39000/39000 [==============================] - 2s 40us/sample - loss: 3.0916e-06 - accuracy: 1.0000 - val_loss: 0.0631 - val_accuracy: 0.9908\n",
            "Epoch 40/60\n",
            "39000/39000 [==============================] - 2s 40us/sample - loss: 2.8333e-06 - accuracy: 1.0000 - val_loss: 0.0635 - val_accuracy: 0.9908\n",
            "Epoch 41/60\n",
            "39000/39000 [==============================] - 2s 40us/sample - loss: 2.5967e-06 - accuracy: 1.0000 - val_loss: 0.0640 - val_accuracy: 0.9909\n",
            "Epoch 42/60\n",
            "39000/39000 [==============================] - 2s 39us/sample - loss: 2.3861e-06 - accuracy: 1.0000 - val_loss: 0.0644 - val_accuracy: 0.9908\n",
            "Epoch 43/60\n",
            "39000/39000 [==============================] - 1s 38us/sample - loss: 2.1874e-06 - accuracy: 1.0000 - val_loss: 0.0648 - val_accuracy: 0.9908\n",
            "Epoch 44/60\n",
            "39000/39000 [==============================] - 2s 39us/sample - loss: 2.0111e-06 - accuracy: 1.0000 - val_loss: 0.0652 - val_accuracy: 0.9909\n",
            "Epoch 45/60\n",
            "39000/39000 [==============================] - 2s 40us/sample - loss: 1.8499e-06 - accuracy: 1.0000 - val_loss: 0.0655 - val_accuracy: 0.9909\n",
            "Epoch 46/60\n",
            "39000/39000 [==============================] - 2s 40us/sample - loss: 1.7023e-06 - accuracy: 1.0000 - val_loss: 0.0660 - val_accuracy: 0.9909\n",
            "Epoch 47/60\n",
            "39000/39000 [==============================] - 2s 39us/sample - loss: 1.5558e-06 - accuracy: 1.0000 - val_loss: 0.0664 - val_accuracy: 0.9908\n",
            "Epoch 48/60\n",
            "39000/39000 [==============================] - 2s 40us/sample - loss: 1.4353e-06 - accuracy: 1.0000 - val_loss: 0.0668 - val_accuracy: 0.9908\n",
            "Epoch 49/60\n",
            "39000/39000 [==============================] - 2s 40us/sample - loss: 1.3196e-06 - accuracy: 1.0000 - val_loss: 0.0672 - val_accuracy: 0.9909\n",
            "Epoch 50/60\n",
            "39000/39000 [==============================] - 2s 40us/sample - loss: 1.2132e-06 - accuracy: 1.0000 - val_loss: 0.0677 - val_accuracy: 0.9908\n",
            "Epoch 51/60\n",
            "39000/39000 [==============================] - 2s 39us/sample - loss: 1.1196e-06 - accuracy: 1.0000 - val_loss: 0.0680 - val_accuracy: 0.9909\n",
            "Epoch 52/60\n",
            "39000/39000 [==============================] - 2s 39us/sample - loss: 1.0310e-06 - accuracy: 1.0000 - val_loss: 0.0684 - val_accuracy: 0.9908\n",
            "Epoch 53/60\n",
            "39000/39000 [==============================] - 2s 39us/sample - loss: 9.5349e-07 - accuracy: 1.0000 - val_loss: 0.0689 - val_accuracy: 0.9909\n",
            "Epoch 54/60\n",
            "39000/39000 [==============================] - 2s 39us/sample - loss: 8.8048e-07 - accuracy: 1.0000 - val_loss: 0.0692 - val_accuracy: 0.9908\n",
            "Epoch 55/60\n",
            "39000/39000 [==============================] - 2s 39us/sample - loss: 8.0887e-07 - accuracy: 1.0000 - val_loss: 0.0696 - val_accuracy: 0.9908\n",
            "Epoch 56/60\n",
            "39000/39000 [==============================] - 2s 40us/sample - loss: 7.4777e-07 - accuracy: 1.0000 - val_loss: 0.0701 - val_accuracy: 0.9908\n",
            "Epoch 57/60\n",
            "39000/39000 [==============================] - 2s 39us/sample - loss: 6.8956e-07 - accuracy: 1.0000 - val_loss: 0.0705 - val_accuracy: 0.9908\n",
            "Epoch 58/60\n",
            "39000/39000 [==============================] - 2s 40us/sample - loss: 6.3747e-07 - accuracy: 1.0000 - val_loss: 0.0709 - val_accuracy: 0.9908\n",
            "Epoch 59/60\n",
            "39000/39000 [==============================] - 2s 39us/sample - loss: 5.8515e-07 - accuracy: 1.0000 - val_loss: 0.0713 - val_accuracy: 0.9908\n",
            "Epoch 60/60\n",
            "39000/39000 [==============================] - 2s 40us/sample - loss: 5.4341e-07 - accuracy: 1.0000 - val_loss: 0.0717 - val_accuracy: 0.9909\n"
          ],
          "name": "stdout"
        }
      ]
    },
    {
      "cell_type": "code",
      "metadata": {
        "id": "0J39gl2OIBTX",
        "colab_type": "code",
        "colab": {
          "base_uri": "https://localhost:8080/",
          "height": 34
        },
        "outputId": "8665c842-17d1-4f8c-d650-41613998523f"
      },
      "source": [
        "score = model.evaluate(X_test, y_test, verbose=VERBOSE)"
      ],
      "execution_count": 40,
      "outputs": [
        {
          "output_type": "stream",
          "text": [
            "10000/10000 [==============================] - 1s 74us/sample - loss: 0.0462 - accuracy: 0.9929\n"
          ],
          "name": "stdout"
        }
      ]
    },
    {
      "cell_type": "code",
      "metadata": {
        "id": "AhlcxMybIGWJ",
        "colab_type": "code",
        "colab": {
          "base_uri": "https://localhost:8080/",
          "height": 68
        },
        "outputId": "fdc42624-73c4-42f0-d416-b79e343b0a06"
      },
      "source": [
        "print(\"\\nTest score:\", score[0])\n",
        "print('Test accuracy:', score[1])"
      ],
      "execution_count": 37,
      "outputs": [
        {
          "output_type": "stream",
          "text": [
            "\n",
            "Test score: 0.046185207780389606\n",
            "Test accuracy: 0.9929\n"
          ],
          "name": "stdout"
        }
      ]
    },
    {
      "cell_type": "code",
      "metadata": {
        "id": "aAQ6u6UdKoGV",
        "colab_type": "code",
        "colab": {
          "base_uri": "https://localhost:8080/",
          "height": 34
        },
        "outputId": "3f5ae7d6-5255-496a-e234-54f1f1ac0dde"
      },
      "source": [
        "score = model.evaluate(X_train, y_train, verbose=VERBOSE)"
      ],
      "execution_count": 38,
      "outputs": [
        {
          "output_type": "stream",
          "text": [
            "60000/60000 [==============================] - 4s 69us/sample - loss: 0.0251 - accuracy: 0.9968\n"
          ],
          "name": "stdout"
        }
      ]
    }
  ]
}